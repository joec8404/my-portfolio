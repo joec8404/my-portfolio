{
 "cells": [
  {
   "cell_type": "markdown",
   "id": "c9b35fb1-3536-4f02-a9b5-76e9767168de",
   "metadata": {},
   "source": [
    "<div style=\"border:solid blue 2px; padding: 20px\">\n",
    "\n",
    "**Overall Summary of the Project**\n",
    "\n",
    "Hi Joe! Thanks for your submission! Here you have a detailed review ;)\n",
    "\n",
    "---\n",
    "\n",
    "**✅ Strengths — keep these!**\n",
    "    \n",
    "* **Good data-cleaning coverage** – you handled nulls in all five tables and clearly justified the `999` sentinel for `add_to_cart_order`.  \n",
    "* **Core A & B tasks complete** – sensible range checks plus clear plots for hour-of-day, day-of-week, Wednesday vs Saturday, and customer-level distributions.  \n",
    "* **Two Hard tasks done (C1 & C2)** – meets the “at least two” requirement.  \n",
    "* **Readable plotting style** – consistent `ggplot`-like visuals with proper titles and axes labels.\n",
    "\n",
    "---\n",
    "\n",
    "**🛠 Nice-to-have polish**\n",
    "    \n",
    "* **Trim giant prints** – instead of printing entire dataframes, switch to something like  \n",
    "  <code>orders.head()</code> or <code>orders.shape</code>.  \n",
    "* **Simplify duplicate counts** – e.g.  \n",
    "  <code>products['product_id'].duplicated().sum()</code>  \n",
    "  instead of printing the full boolean series.  \n",
    "* **Lower-case *before* de-duping names** – call  \n",
    "  <code>products['product_name'] = products['product_name'].str.lower()</code>  \n",
    "  then drop duplicates so “Apple” ≠ “apple”.  \n",
    "* **Label axes everywhere** – e.g.  \n",
    "  <code>plt.xlabel('Items per Order'); plt.ylabel('Number of Orders')</code>  \n",
    "  on the C1 histogram.\n",
    "\n",
    "---\n",
    "\n",
    "**🚩 Critical changes (must-fix to pass)**\n",
    "    \n",
    "1. **Don’t drop rows just by product name**  \n",
    "   Multiple brands share names like “whole milk”. Dropping on name alone deletes valid rows.  \n",
    "   Replace with:  \n",
    "   <code># keep one row per product_id (or skip dropping entirely)  \n",
    "products = products.drop_duplicates(subset='product_id')</code>\n",
    "\n",
    "2. **Correct the aisles duplicate check**  \n",
    "   One cell prints `departments` instead of `aisles`. Use:  \n",
    "   <code>print(aisles.duplicated().sum())  \n",
    "print(aisles[aisles.duplicated()])</code>\n",
    "\n",
    "3. **Remove full-DataFrame displays to avoid grader timeouts**  \n",
    "   Swap any bare dataframe outputs (like `orders`) for  \n",
    "   <code>orders.head()</code> or comment them out.\n",
    "\n",
    "Implement those four 🚩 bullets, rerun the notebook, and you’ll be set.  \n",
    "Nice progress so far, Joe — finish these tweaks and the project will be rock-solid! 🚀"
   ]
  },
  {
   "cell_type": "markdown",
   "id": "42b652c2-fe7d-40b5-9977-af106b89aa88",
   "metadata": {},
   "source": [
    "<div style=\"border:solid blue 2px; padding: 20px\">\n",
    "\n",
    "**Overall Summary of the Project Iter 2**\n",
    "\n",
    "Congrats on your approval, Joe! ;)"
   ]
  },
  {
   "cell_type": "code",
   "execution_count": 1,
   "id": "14b3353e-3f72-4efb-86eb-c231034008d3",
   "metadata": {
    "id": "dafcfda4-03ec-40b7-9a59-6e21ad6a2447"
   },
   "outputs": [],
   "source": [
    "# Instacart Market Basket Analysis"
   ]
  },
  {
   "cell_type": "markdown",
   "id": "7c513406-9b90-479c-ab2f-a02f79ade6fc",
   "metadata": {
    "id": "7c513406-9b90-479c-ab2f-a02f79ade6fc"
   },
   "source": [
    "## Importing the required libraries"
   ]
  },
  {
   "cell_type": "code",
   "execution_count": 2,
   "id": "fbf1adab",
   "metadata": {
    "id": "fbf1adab"
   },
   "outputs": [],
   "source": [
    "# Import the libraries you'll need for this analysis\n",
    "import pandas as pd\n",
    "import matplotlib.pyplot as plt"
   ]
  },
  {
   "cell_type": "code",
   "execution_count": 3,
   "id": "fe188ef3-27b2-4825-b955-232cdd326307",
   "metadata": {
    "id": "fe188ef3-27b2-4825-b955-232cdd326307"
   },
   "outputs": [],
   "source": [
    "# Load the datasets\n",
    "# Note: These files use semicolon (;) as the separator instead of comma\n",
    "orders         = pd.read_csv('/datasets/instacart_orders.csv', sep=';')\n",
    "products       = pd.read_csv('/datasets/products.csv', sep=';')\n",
    "departments    = pd.read_csv('/datasets/departments.csv', sep=';')\n",
    "aisles         = pd.read_csv('/datasets/aisles.csv', sep=';')\n",
    "order_products = pd.read_csv('/datasets/order_products.csv', sep=';')"
   ]
  },
  {
   "cell_type": "markdown",
   "id": "9a38987c-bf93-4219-b61a-d31781438c8e",
   "metadata": {
    "id": "9a38987c-bf93-4219-b61a-d31781438c8e"
   },
   "source": [
    "## Analyze your data"
   ]
  },
  {
   "cell_type": "markdown",
   "id": "04d4b1a9-a75f-4c89-a297-3a6002b0e53d",
   "metadata": {
    "id": "04d4b1a9-a75f-4c89-a297-3a6002b0e53d"
   },
   "source": [
    "In the cells below, display the datasets using `.info()` and `.head()` to gain insights into their structure and content.\n",
    "\n",
    "- `.info()`: Provides a concise summary of the dataset, including the data types, non-null counts, and memory usage.\n",
    "- `.head()`: Displays the first few rows of the dataset, offering a quick overview of the data values."
   ]
  },
  {
   "cell_type": "code",
   "execution_count": 4,
   "id": "10cc6096-d5ba-40b9-ba42-967e2fb7dec1",
   "metadata": {
    "id": "10cc6096-d5ba-40b9-ba42-967e2fb7dec1"
   },
   "outputs": [
    {
     "data": {
      "text/html": [
       "<div>\n",
       "<style scoped>\n",
       "    .dataframe tbody tr th:only-of-type {\n",
       "        vertical-align: middle;\n",
       "    }\n",
       "\n",
       "    .dataframe tbody tr th {\n",
       "        vertical-align: top;\n",
       "    }\n",
       "\n",
       "    .dataframe thead th {\n",
       "        text-align: right;\n",
       "    }\n",
       "</style>\n",
       "<table border=\"1\" class=\"dataframe\">\n",
       "  <thead>\n",
       "    <tr style=\"text-align: right;\">\n",
       "      <th></th>\n",
       "      <th>order_id</th>\n",
       "      <th>user_id</th>\n",
       "      <th>order_number</th>\n",
       "      <th>order_dow</th>\n",
       "      <th>order_hour_of_day</th>\n",
       "      <th>days_since_prior_order</th>\n",
       "    </tr>\n",
       "  </thead>\n",
       "  <tbody>\n",
       "    <tr>\n",
       "      <th>0</th>\n",
       "      <td>1515936</td>\n",
       "      <td>183418</td>\n",
       "      <td>11</td>\n",
       "      <td>6</td>\n",
       "      <td>13</td>\n",
       "      <td>30.0</td>\n",
       "    </tr>\n",
       "    <tr>\n",
       "      <th>1</th>\n",
       "      <td>1690866</td>\n",
       "      <td>163593</td>\n",
       "      <td>5</td>\n",
       "      <td>5</td>\n",
       "      <td>12</td>\n",
       "      <td>9.0</td>\n",
       "    </tr>\n",
       "    <tr>\n",
       "      <th>2</th>\n",
       "      <td>1454967</td>\n",
       "      <td>39980</td>\n",
       "      <td>4</td>\n",
       "      <td>5</td>\n",
       "      <td>19</td>\n",
       "      <td>2.0</td>\n",
       "    </tr>\n",
       "    <tr>\n",
       "      <th>3</th>\n",
       "      <td>1768857</td>\n",
       "      <td>82516</td>\n",
       "      <td>56</td>\n",
       "      <td>0</td>\n",
       "      <td>20</td>\n",
       "      <td>10.0</td>\n",
       "    </tr>\n",
       "    <tr>\n",
       "      <th>4</th>\n",
       "      <td>3007858</td>\n",
       "      <td>196724</td>\n",
       "      <td>2</td>\n",
       "      <td>4</td>\n",
       "      <td>12</td>\n",
       "      <td>17.0</td>\n",
       "    </tr>\n",
       "  </tbody>\n",
       "</table>\n",
       "</div>"
      ],
      "text/plain": [
       "   order_id  user_id  order_number  order_dow  order_hour_of_day  \\\n",
       "0   1515936   183418            11          6                 13   \n",
       "1   1690866   163593             5          5                 12   \n",
       "2   1454967    39980             4          5                 19   \n",
       "3   1768857    82516            56          0                 20   \n",
       "4   3007858   196724             2          4                 12   \n",
       "\n",
       "   days_since_prior_order  \n",
       "0                    30.0  \n",
       "1                     9.0  \n",
       "2                     2.0  \n",
       "3                    10.0  \n",
       "4                    17.0  "
      ]
     },
     "execution_count": 4,
     "metadata": {},
     "output_type": "execute_result"
    }
   ],
   "source": [
    "# In this cell, type \"orders\" below this line and execute the cell\n",
    "orders.head()"
   ]
  },
  {
   "cell_type": "code",
   "execution_count": 5,
   "id": "5130e05e",
   "metadata": {
    "id": "5130e05e"
   },
   "outputs": [
    {
     "data": {
      "text/html": [
       "<div>\n",
       "<style scoped>\n",
       "    .dataframe tbody tr th:only-of-type {\n",
       "        vertical-align: middle;\n",
       "    }\n",
       "\n",
       "    .dataframe tbody tr th {\n",
       "        vertical-align: top;\n",
       "    }\n",
       "\n",
       "    .dataframe thead th {\n",
       "        text-align: right;\n",
       "    }\n",
       "</style>\n",
       "<table border=\"1\" class=\"dataframe\">\n",
       "  <thead>\n",
       "    <tr style=\"text-align: right;\">\n",
       "      <th></th>\n",
       "      <th>product_id</th>\n",
       "      <th>product_name</th>\n",
       "      <th>aisle_id</th>\n",
       "      <th>department_id</th>\n",
       "    </tr>\n",
       "  </thead>\n",
       "  <tbody>\n",
       "    <tr>\n",
       "      <th>0</th>\n",
       "      <td>1</td>\n",
       "      <td>Chocolate Sandwich Cookies</td>\n",
       "      <td>61</td>\n",
       "      <td>19</td>\n",
       "    </tr>\n",
       "    <tr>\n",
       "      <th>1</th>\n",
       "      <td>2</td>\n",
       "      <td>All-Seasons Salt</td>\n",
       "      <td>104</td>\n",
       "      <td>13</td>\n",
       "    </tr>\n",
       "    <tr>\n",
       "      <th>2</th>\n",
       "      <td>3</td>\n",
       "      <td>Robust Golden Unsweetened Oolong Tea</td>\n",
       "      <td>94</td>\n",
       "      <td>7</td>\n",
       "    </tr>\n",
       "    <tr>\n",
       "      <th>3</th>\n",
       "      <td>4</td>\n",
       "      <td>Smart Ones Classic Favorites Mini Rigatoni Wit...</td>\n",
       "      <td>38</td>\n",
       "      <td>1</td>\n",
       "    </tr>\n",
       "    <tr>\n",
       "      <th>4</th>\n",
       "      <td>5</td>\n",
       "      <td>Green Chile Anytime Sauce</td>\n",
       "      <td>5</td>\n",
       "      <td>13</td>\n",
       "    </tr>\n",
       "  </tbody>\n",
       "</table>\n",
       "</div>"
      ],
      "text/plain": [
       "   product_id                                       product_name  aisle_id  \\\n",
       "0           1                         Chocolate Sandwich Cookies        61   \n",
       "1           2                                   All-Seasons Salt       104   \n",
       "2           3               Robust Golden Unsweetened Oolong Tea        94   \n",
       "3           4  Smart Ones Classic Favorites Mini Rigatoni Wit...        38   \n",
       "4           5                          Green Chile Anytime Sauce         5   \n",
       "\n",
       "   department_id  \n",
       "0             19  \n",
       "1             13  \n",
       "2              7  \n",
       "3              1  \n",
       "4             13  "
      ]
     },
     "execution_count": 5,
     "metadata": {},
     "output_type": "execute_result"
    }
   ],
   "source": [
    "# In this cell, type \"products\" below this line and execute the cell\n",
    "products.head()"
   ]
  },
  {
   "cell_type": "markdown",
   "id": "5143e30d-f791-4596-b1f2-3c64cf8d2243",
   "metadata": {
    "id": "5143e30d-f791-4596-b1f2-3c64cf8d2243"
   },
   "source": [
    "Repeat this process for each dataset to understand the structure, including the types of columns and rows they contain. Add additional code cells as needed for your analysis."
   ]
  },
  {
   "cell_type": "code",
   "execution_count": 6,
   "id": "d8370c05",
   "metadata": {
    "id": "d8370c05"
   },
   "outputs": [
    {
     "name": "stdout",
     "output_type": "stream",
     "text": [
      "<class 'pandas.core.frame.DataFrame'>\n",
      "RangeIndex: 478967 entries, 0 to 478966\n",
      "Data columns (total 6 columns):\n",
      " #   Column                  Non-Null Count   Dtype  \n",
      "---  ------                  --------------   -----  \n",
      " 0   order_id                478967 non-null  int64  \n",
      " 1   user_id                 478967 non-null  int64  \n",
      " 2   order_number            478967 non-null  int64  \n",
      " 3   order_dow               478967 non-null  int64  \n",
      " 4   order_hour_of_day       478967 non-null  int64  \n",
      " 5   days_since_prior_order  450148 non-null  float64\n",
      "dtypes: float64(1), int64(5)\n",
      "memory usage: 21.9 MB\n"
     ]
    }
   ],
   "source": [
    "# In this cell, type \"orders.info() below this line and execute the cell\n",
    "orders.info()"
   ]
  },
  {
   "cell_type": "markdown",
   "id": "73bc6c88-e73f-4d53-b887-5ee6b5e6c570",
   "metadata": {
    "id": "73bc6c88-e73f-4d53-b887-5ee6b5e6c570"
   },
   "source": [
    "The \"Non-Null Count\" column provides information about any missing values in each column of the dataset. With a total of 478,952 entries, observe any columns where the non-null count is less than this number to identify missing values."
   ]
  },
  {
   "cell_type": "code",
   "execution_count": 7,
   "id": "59e2090f",
   "metadata": {
    "id": "59e2090f"
   },
   "outputs": [
    {
     "name": "stdout",
     "output_type": "stream",
     "text": [
      "<class 'pandas.core.frame.DataFrame'>\n",
      "RangeIndex: 4545007 entries, 0 to 4545006\n",
      "Data columns (total 4 columns):\n",
      " #   Column             Non-Null Count    Dtype  \n",
      "---  ------             --------------    -----  \n",
      " 0   order_id           4545007 non-null  int64  \n",
      " 1   product_id         4545007 non-null  int64  \n",
      " 2   add_to_cart_order  4544171 non-null  float64\n",
      " 3   reordered          4545007 non-null  int64  \n",
      "dtypes: float64(1), int64(3)\n",
      "memory usage: 138.7 MB\n"
     ]
    }
   ],
   "source": [
    "# In this cell, run orders_products.info() below, but include the argument show_counts=True since this is a large file.\n",
    "order_products.info(show_counts=True)"
   ]
  },
  {
   "cell_type": "markdown",
   "id": "3360e4ce-723c-45bd-8998-ca2f1db53349",
   "metadata": {
    "id": "3360e4ce-723c-45bd-8998-ca2f1db53349"
   },
   "source": [
    "Repeat the use of .info() on the remaining datasets to identify missing values and understand their structure. Check the \"Non-Null Count\" for each dataset to spot any columns with missing values."
   ]
  },
  {
   "cell_type": "markdown",
   "id": "1e46de76",
   "metadata": {
    "id": "1e46de76"
   },
   "source": [
    "## Find and Remove Missing Values\n",
    "\n",
    "We noticed that some columns contain missing values.\n",
    "\n",
    "Here are some useful code snippets:\n",
    "\n",
    "```python\n",
    "# Identify missing values in each column\n",
    "print(dataset.isnull().sum())\n",
    "\n",
    "# Display rows where a specific column has missing values\n",
    "print(dataset[dataset['column_name'].isna()])\n",
    "\n",
    "# Confirm no missing values remain\n",
    "print(dataset.isnull().sum())\n",
    "```"
   ]
  },
  {
   "cell_type": "code",
   "execution_count": 60,
   "id": "775dd3e4",
   "metadata": {
    "id": "c0aebd78"
   },
   "outputs": [
    {
     "data": {
      "text/html": [
       "<div>\n",
       "<style scoped>\n",
       "    .dataframe tbody tr th:only-of-type {\n",
       "        vertical-align: middle;\n",
       "    }\n",
       "\n",
       "    .dataframe tbody tr th {\n",
       "        vertical-align: top;\n",
       "    }\n",
       "\n",
       "    .dataframe thead th {\n",
       "        text-align: right;\n",
       "    }\n",
       "</style>\n",
       "<table border=\"1\" class=\"dataframe\">\n",
       "  <thead>\n",
       "    <tr style=\"text-align: right;\">\n",
       "      <th></th>\n",
       "      <th>product_id</th>\n",
       "      <th>product_name</th>\n",
       "      <th>aisle_id</th>\n",
       "      <th>department_id</th>\n",
       "    </tr>\n",
       "  </thead>\n",
       "  <tbody>\n",
       "    <tr>\n",
       "      <th>0</th>\n",
       "      <td>1</td>\n",
       "      <td>Chocolate Sandwich Cookies</td>\n",
       "      <td>61</td>\n",
       "      <td>19</td>\n",
       "    </tr>\n",
       "    <tr>\n",
       "      <th>1</th>\n",
       "      <td>2</td>\n",
       "      <td>All-Seasons Salt</td>\n",
       "      <td>104</td>\n",
       "      <td>13</td>\n",
       "    </tr>\n",
       "    <tr>\n",
       "      <th>2</th>\n",
       "      <td>3</td>\n",
       "      <td>Robust Golden Unsweetened Oolong Tea</td>\n",
       "      <td>94</td>\n",
       "      <td>7</td>\n",
       "    </tr>\n",
       "    <tr>\n",
       "      <th>3</th>\n",
       "      <td>4</td>\n",
       "      <td>Smart Ones Classic Favorites Mini Rigatoni Wit...</td>\n",
       "      <td>38</td>\n",
       "      <td>1</td>\n",
       "    </tr>\n",
       "    <tr>\n",
       "      <th>4</th>\n",
       "      <td>5</td>\n",
       "      <td>Green Chile Anytime Sauce</td>\n",
       "      <td>5</td>\n",
       "      <td>13</td>\n",
       "    </tr>\n",
       "  </tbody>\n",
       "</table>\n",
       "</div>"
      ],
      "text/plain": [
       "   product_id                                       product_name  aisle_id  \\\n",
       "0           1                         Chocolate Sandwich Cookies        61   \n",
       "1           2                                   All-Seasons Salt       104   \n",
       "2           3               Robust Golden Unsweetened Oolong Tea        94   \n",
       "3           4  Smart Ones Classic Favorites Mini Rigatoni Wit...        38   \n",
       "4           5                          Green Chile Anytime Sauce         5   \n",
       "\n",
       "   department_id  \n",
       "0             19  \n",
       "1             13  \n",
       "2              7  \n",
       "3              1  \n",
       "4             13  "
      ]
     },
     "execution_count": 60,
     "metadata": {},
     "output_type": "execute_result"
    }
   ],
   "source": [
    "# `products` Data Frame\n",
    "products.head()\n",
    "\n",
    "#e will begin by addressing the missing values in the `products` data frame."
   ]
  },
  {
   "cell_type": "code",
   "execution_count": 9,
   "id": "fe4a8b0f",
   "metadata": {
    "id": "fe4a8b0f"
   },
   "outputs": [
    {
     "name": "stdout",
     "output_type": "stream",
     "text": [
      "       product_id product_name  aisle_id  department_id\n",
      "37             38          NaN       100             21\n",
      "71             72          NaN       100             21\n",
      "109           110          NaN       100             21\n",
      "296           297          NaN       100             21\n",
      "416           417          NaN       100             21\n",
      "...           ...          ...       ...            ...\n",
      "49552       49553          NaN       100             21\n",
      "49574       49575          NaN       100             21\n",
      "49640       49641          NaN       100             21\n",
      "49663       49664          NaN       100             21\n",
      "49668       49669          NaN       100             21\n",
      "\n",
      "[1258 rows x 4 columns]\n"
     ]
    }
   ],
   "source": [
    "# Display rows where the product_name column has missing values\n",
    "print(products[products['product_name'].isna()])"
   ]
  },
  {
   "cell_type": "markdown",
   "id": "b077fb59-f1f2-4390-a2bd-cdccadd5a747",
   "metadata": {
    "id": "b077fb59-f1f2-4390-a2bd-cdccadd5a747"
   },
   "source": [
    "It seems suspicious that all rows with missing `product_name` might be associated with `aisle_id` 100 and `department_id` 21. Let’s verify this by checking if any rows with missing `product_name` have an `aisle_id` different from 100 and 21. This will help us confirm if the issue is isolated to this aisle or spread across others."
   ]
  },
  {
   "cell_type": "code",
   "execution_count": 10,
   "id": "e96167bc",
   "metadata": {
    "id": "e96167bc"
   },
   "outputs": [
    {
     "name": "stdout",
     "output_type": "stream",
     "text": [
      "Empty DataFrame\n",
      "Columns: [product_id, product_name, aisle_id, department_id]\n",
      "Index: []\n"
     ]
    }
   ],
   "source": [
    "# Combine conditions to check for missing product names in aisles other than 100\n",
    "print(products[(products['product_name'].isna()) & (products['aisle_id'] != 100)])\n"
   ]
  },
  {
   "cell_type": "code",
   "execution_count": 11,
   "id": "8fd0a541",
   "metadata": {
    "id": "8fd0a541"
   },
   "outputs": [
    {
     "name": "stdout",
     "output_type": "stream",
     "text": [
      "       product_id product_name  aisle_id  department_id\n",
      "37             38          NaN       100             21\n",
      "71             72          NaN       100             21\n",
      "109           110          NaN       100             21\n",
      "296           297          NaN       100             21\n",
      "416           417          NaN       100             21\n",
      "...           ...          ...       ...            ...\n",
      "49552       49553          NaN       100             21\n",
      "49574       49575          NaN       100             21\n",
      "49640       49641          NaN       100             21\n",
      "49663       49664          NaN       100             21\n",
      "49668       49669          NaN       100             21\n",
      "\n",
      "[1258 rows x 4 columns]\n"
     ]
    }
   ],
   "source": [
    "# Combine conditions to check for missing product names in aisles other than 21\n",
    "print(products[(products['product_name'].isna()) & (products['aisle_id'] != 21)])\n"
   ]
  },
  {
   "cell_type": "markdown",
   "id": "2c74c53f-a139-4d83-9be9-628fca74ce7c",
   "metadata": {
    "id": "2c74c53f-a139-4d83-9be9-628fca74ce7c"
   },
   "source": [
    "To better understand the missing product_name values, let’s determine what department_id 21 and aisle_id 100 represent by referencing the departments and aisles tables."
   ]
  },
  {
   "cell_type": "code",
   "execution_count": 12,
   "id": "325c3464",
   "metadata": {
    "id": "325c3464"
   },
   "outputs": [
    {
     "name": "stdout",
     "output_type": "stream",
     "text": [
      "    department_id department\n",
      "20             21    missing\n",
      "    aisle_id    aisle\n",
      "99       100  missing\n"
     ]
    }
   ],
   "source": [
    "# What is this aisle and department?\n",
    "print(departments[(departments['department_id'] == 21)]) \n",
    "\n",
    "#print(aisles)\n",
    "\n",
    "                   \n",
    "print(aisles[(aisles['aisle_id'] == 100)]) \n",
    "\n"
   ]
  },
  {
   "cell_type": "code",
   "execution_count": 13,
   "id": "6b295120",
   "metadata": {
    "id": "6b295120"
   },
   "outputs": [
    {
     "data": {
      "text/plain": [
       "0"
      ]
     },
     "execution_count": 13,
     "metadata": {},
     "output_type": "execute_result"
    }
   ],
   "source": [
    "# Fill missing product names with 'Unknown'\n",
    "products['product_name'].fillna('Unknown', inplace = True)\n",
    "products['product_name'].isna().sum()"
   ]
  },
  {
   "cell_type": "markdown",
   "id": "7eb45c86",
   "metadata": {
    "id": "7eb45c86"
   },
   "source": [
    "### `orders` data frame\n",
    "\n",
    "Now let's fill in missing values from the `orders` table."
   ]
  },
  {
   "cell_type": "code",
   "execution_count": 14,
   "id": "93e41d96",
   "metadata": {
    "id": "93e41d96"
   },
   "outputs": [
    {
     "name": "stdout",
     "output_type": "stream",
     "text": [
      "        order_id  user_id  order_number  order_dow  order_hour_of_day  \\\n",
      "28        133707   182261             1          3                 10   \n",
      "96        787445    25685             1          6                 18   \n",
      "100       294410   111449             1          0                 19   \n",
      "103      2869915   123958             1          4                 16   \n",
      "104      2521921    42286             1          3                 18   \n",
      "...          ...      ...           ...        ...                ...   \n",
      "478895   2589657   205028             1          0                 16   \n",
      "478896   2222353   141211             1          2                 13   \n",
      "478922   2272807   204154             1          1                 15   \n",
      "478926   2499542    68810             1          4                 19   \n",
      "478945   1387033    22496             1          5                 14   \n",
      "\n",
      "        days_since_prior_order  \n",
      "28                         NaN  \n",
      "96                         NaN  \n",
      "100                        NaN  \n",
      "103                        NaN  \n",
      "104                        NaN  \n",
      "...                        ...  \n",
      "478895                     NaN  \n",
      "478896                     NaN  \n",
      "478922                     NaN  \n",
      "478926                     NaN  \n",
      "478945                     NaN  \n",
      "\n",
      "[28819 rows x 6 columns]\n"
     ]
    }
   ],
   "source": [
    "# Display rows where the days_since_prior_order column has missing values\n",
    "print(orders[orders['days_since_prior_order'].isna()])"
   ]
  },
  {
   "cell_type": "code",
   "execution_count": 15,
   "id": "166e5a86",
   "metadata": {
    "id": "166e5a86"
   },
   "outputs": [
    {
     "data": {
      "text/html": [
       "<div>\n",
       "<style scoped>\n",
       "    .dataframe tbody tr th:only-of-type {\n",
       "        vertical-align: middle;\n",
       "    }\n",
       "\n",
       "    .dataframe tbody tr th {\n",
       "        vertical-align: top;\n",
       "    }\n",
       "\n",
       "    .dataframe thead th {\n",
       "        text-align: right;\n",
       "    }\n",
       "</style>\n",
       "<table border=\"1\" class=\"dataframe\">\n",
       "  <thead>\n",
       "    <tr style=\"text-align: right;\">\n",
       "      <th></th>\n",
       "      <th>order_id</th>\n",
       "      <th>user_id</th>\n",
       "      <th>order_number</th>\n",
       "      <th>order_dow</th>\n",
       "      <th>order_hour_of_day</th>\n",
       "      <th>days_since_prior_order</th>\n",
       "    </tr>\n",
       "  </thead>\n",
       "  <tbody>\n",
       "  </tbody>\n",
       "</table>\n",
       "</div>"
      ],
      "text/plain": [
       "Empty DataFrame\n",
       "Columns: [order_id, user_id, order_number, order_dow, order_hour_of_day, days_since_prior_order]\n",
       "Index: []"
      ]
     },
     "execution_count": 15,
     "metadata": {},
     "output_type": "execute_result"
    }
   ],
   "source": [
    "# Are there any missing values where it's not a customer's first order?\n",
    "orders[(orders['days_since_prior_order'].isna()) & (orders['order_number'] > 1)]"
   ]
  },
  {
   "cell_type": "markdown",
   "id": "4e23d089",
   "metadata": {
    "id": "4e23d089"
   },
   "source": [
    "All of the missing `'days_since_prior_order'` values correspond to a customer's first ever order. This makes sense because there is no prior order! We'll leave the values as `NaN` so the column can remain numeric. Also, the `NaN` values shouldn't interfere with any calculations we might do using this column."
   ]
  },
  {
   "cell_type": "markdown",
   "id": "69dc9ca4",
   "metadata": {
    "id": "69dc9ca4"
   },
   "source": [
    "### `order_products` data frame\n",
    "\n",
    "Now let's fill in missing values from the order_products table."
   ]
  },
  {
   "cell_type": "code",
   "execution_count": 16,
   "id": "b8240253",
   "metadata": {
    "id": "b8240253"
   },
   "outputs": [
    {
     "data": {
      "text/html": [
       "<div>\n",
       "<style scoped>\n",
       "    .dataframe tbody tr th:only-of-type {\n",
       "        vertical-align: middle;\n",
       "    }\n",
       "\n",
       "    .dataframe tbody tr th {\n",
       "        vertical-align: top;\n",
       "    }\n",
       "\n",
       "    .dataframe thead th {\n",
       "        text-align: right;\n",
       "    }\n",
       "</style>\n",
       "<table border=\"1\" class=\"dataframe\">\n",
       "  <thead>\n",
       "    <tr style=\"text-align: right;\">\n",
       "      <th></th>\n",
       "      <th>order_id</th>\n",
       "      <th>product_id</th>\n",
       "      <th>add_to_cart_order</th>\n",
       "      <th>reordered</th>\n",
       "    </tr>\n",
       "  </thead>\n",
       "  <tbody>\n",
       "    <tr>\n",
       "      <th>737</th>\n",
       "      <td>2449164</td>\n",
       "      <td>5068</td>\n",
       "      <td>NaN</td>\n",
       "      <td>0</td>\n",
       "    </tr>\n",
       "    <tr>\n",
       "      <th>9926</th>\n",
       "      <td>1968313</td>\n",
       "      <td>43867</td>\n",
       "      <td>NaN</td>\n",
       "      <td>0</td>\n",
       "    </tr>\n",
       "    <tr>\n",
       "      <th>14394</th>\n",
       "      <td>2926893</td>\n",
       "      <td>11688</td>\n",
       "      <td>NaN</td>\n",
       "      <td>0</td>\n",
       "    </tr>\n",
       "    <tr>\n",
       "      <th>16418</th>\n",
       "      <td>1717990</td>\n",
       "      <td>4142</td>\n",
       "      <td>NaN</td>\n",
       "      <td>0</td>\n",
       "    </tr>\n",
       "    <tr>\n",
       "      <th>30114</th>\n",
       "      <td>1959075</td>\n",
       "      <td>42828</td>\n",
       "      <td>NaN</td>\n",
       "      <td>1</td>\n",
       "    </tr>\n",
       "    <tr>\n",
       "      <th>...</th>\n",
       "      <td>...</td>\n",
       "      <td>...</td>\n",
       "      <td>...</td>\n",
       "      <td>...</td>\n",
       "    </tr>\n",
       "    <tr>\n",
       "      <th>4505662</th>\n",
       "      <td>1800005</td>\n",
       "      <td>7411</td>\n",
       "      <td>NaN</td>\n",
       "      <td>0</td>\n",
       "    </tr>\n",
       "    <tr>\n",
       "      <th>4511400</th>\n",
       "      <td>1633337</td>\n",
       "      <td>260</td>\n",
       "      <td>NaN</td>\n",
       "      <td>0</td>\n",
       "    </tr>\n",
       "    <tr>\n",
       "      <th>4517562</th>\n",
       "      <td>404157</td>\n",
       "      <td>9517</td>\n",
       "      <td>NaN</td>\n",
       "      <td>0</td>\n",
       "    </tr>\n",
       "    <tr>\n",
       "      <th>4534112</th>\n",
       "      <td>1673227</td>\n",
       "      <td>17835</td>\n",
       "      <td>NaN</td>\n",
       "      <td>0</td>\n",
       "    </tr>\n",
       "    <tr>\n",
       "      <th>4535739</th>\n",
       "      <td>1832957</td>\n",
       "      <td>17949</td>\n",
       "      <td>NaN</td>\n",
       "      <td>1</td>\n",
       "    </tr>\n",
       "  </tbody>\n",
       "</table>\n",
       "<p>836 rows × 4 columns</p>\n",
       "</div>"
      ],
      "text/plain": [
       "         order_id  product_id  add_to_cart_order  reordered\n",
       "737       2449164        5068                NaN          0\n",
       "9926      1968313       43867                NaN          0\n",
       "14394     2926893       11688                NaN          0\n",
       "16418     1717990        4142                NaN          0\n",
       "30114     1959075       42828                NaN          1\n",
       "...           ...         ...                ...        ...\n",
       "4505662   1800005        7411                NaN          0\n",
       "4511400   1633337         260                NaN          0\n",
       "4517562    404157        9517                NaN          0\n",
       "4534112   1673227       17835                NaN          0\n",
       "4535739   1832957       17949                NaN          1\n",
       "\n",
       "[836 rows x 4 columns]"
      ]
     },
     "execution_count": 16,
     "metadata": {},
     "output_type": "execute_result"
    }
   ],
   "source": [
    "# Display rows where the add_to_cart_order column has missing values\n",
    "order_products[order_products['add_to_cart_order'].isna()]"
   ]
  },
  {
   "cell_type": "code",
   "execution_count": 17,
   "id": "9a78e5ee",
   "metadata": {
    "id": "9a78e5ee"
   },
   "outputs": [
    {
     "name": "stdout",
     "output_type": "stream",
     "text": [
      "order_id             4.0\n",
      "product_id           1.0\n",
      "add_to_cart_order    1.0\n",
      "reordered            0.0\n",
      "dtype: float64\n",
      "\n",
      "order_id             3421079.0\n",
      "product_id             49694.0\n",
      "add_to_cart_order         64.0\n",
      "reordered                  1.0\n",
      "dtype: float64\n"
     ]
    }
   ],
   "source": [
    "# Use .min() and .max() to find the minimum and maximum values for this column.\n",
    "print(order_products.min())\n",
    "print()\n",
    "print(order_products.max())"
   ]
  },
  {
   "cell_type": "code",
   "execution_count": 18,
   "id": "ab9d0c2b",
   "metadata": {
    "id": "ab9d0c2b"
   },
   "outputs": [
    {
     "data": {
      "text/plain": [
       "{9310,\n",
       " 61355,\n",
       " 102236,\n",
       " 129627,\n",
       " 165801,\n",
       " 171934,\n",
       " 180546,\n",
       " 264710,\n",
       " 293169,\n",
       " 388234,\n",
       " 404157,\n",
       " 678116,\n",
       " 733526,\n",
       " 747668,\n",
       " 813364,\n",
       " 844733,\n",
       " 854647,\n",
       " 871281,\n",
       " 888470,\n",
       " 903110,\n",
       " 936852,\n",
       " 1021563,\n",
       " 1038146,\n",
       " 1169835,\n",
       " 1183255,\n",
       " 1220886,\n",
       " 1302315,\n",
       " 1308785,\n",
       " 1386261,\n",
       " 1477139,\n",
       " 1529171,\n",
       " 1564093,\n",
       " 1598369,\n",
       " 1625713,\n",
       " 1633337,\n",
       " 1648217,\n",
       " 1673227,\n",
       " 1677118,\n",
       " 1713430,\n",
       " 1717990,\n",
       " 1730767,\n",
       " 1800005,\n",
       " 1832957,\n",
       " 1888628,\n",
       " 1916118,\n",
       " 1959075,\n",
       " 1961723,\n",
       " 1968313,\n",
       " 2094761,\n",
       " 2136777,\n",
       " 2170451,\n",
       " 2256933,\n",
       " 2409109,\n",
       " 2449164,\n",
       " 2470674,\n",
       " 2479011,\n",
       " 2621907,\n",
       " 2625444,\n",
       " 2652650,\n",
       " 2721963,\n",
       " 2729254,\n",
       " 2849370,\n",
       " 2926893,\n",
       " 2979697,\n",
       " 2997021,\n",
       " 2999801,\n",
       " 3125735,\n",
       " 3308010,\n",
       " 3347453,\n",
       " 3383594}"
      ]
     },
     "execution_count": 18,
     "metadata": {},
     "output_type": "execute_result"
    }
   ],
   "source": [
    "# Save all order IDs with at least one missing value in 'add_to_cart_order'\n",
    "\n",
    "missing_values_products_order_ids = set(order_products[order_products['add_to_cart_order'].isna()]['order_id'])\n",
    "missing_values_products_order_ids"
   ]
  },
  {
   "cell_type": "code",
   "execution_count": 19,
   "id": "54c31695",
   "metadata": {
    "id": "54c31695"
   },
   "outputs": [
    {
     "name": "stdout",
     "output_type": "stream",
     "text": [
      "65\n"
     ]
    }
   ],
   "source": [
    "# Do all orders with missing values have more than 64 products?\n",
    "print(order_products[(order_products['order_id'].isin(missing_values_products_order_ids))].groupby('order_id').size().min())\n"
   ]
  },
  {
   "cell_type": "code",
   "execution_count": 20,
   "id": "7a987d08",
   "metadata": {
    "id": "7a987d08"
   },
   "outputs": [],
   "source": [
    "# Replace missing values with 999 and convert column to integer type\n",
    "order_products['add_to_cart_order']=order_products['add_to_cart_order'].fillna(999).astype(int)"
   ]
  },
  {
   "cell_type": "markdown",
   "id": "fea4bcc7",
   "metadata": {
    "id": "fea4bcc7"
   },
   "source": [
    "For some reason, any item placed in the cart 65th or later has a missing value in the `'add_to_cart_order'` column. Maybe the data type of that column in the database could only hold integer values from 1 to 64. We've decided to replace the missing values with a code value, 999, that represents an unknown placed in cart order above 64. We also converted the column to integer data type. We just need to be careful to remember this if we perform calculations using this column during our analysis.\n",
    "\n",
    "Other sensible code values we could've used are 0 or -1 because they don't show up elsewhere in the dataset and they don't have any real physical meaning for this variable.\n",
    "\n",
    "Also note that, for orders with exactly 65 items, we could replace the missing value with 65. But we're going to neglect that for now since we can't determine the 65th item for all orders with 66 items or more."
   ]
  },
  {
   "cell_type": "markdown",
   "id": "07357848-dc64-4156-9cc3-01ff4365226d",
   "metadata": {
    "id": "07357848-dc64-4156-9cc3-01ff4365226d"
   },
   "source": [
    "## Find and Remove Duplicate Values from All the Datasets\n",
    "\n",
    "Each dataset may contain duplicate rows, which can lead to redundancy and affect the accuracy of our analysis. To handle this:\n",
    "\n",
    "1. Use the `.duplicated()` method to identify duplicate rows. This method returns a Boolean series where `True` indicates a duplicate row.\n",
    "2. Apply the `.drop_duplicates()` method to remove these duplicate rows, ensuring a cleaner dataset.\n",
    "3. Optionally, you can set the `keep` parameter in `.drop_duplicates()` to specify which duplicate to retain (`'first'` or `'last'`).\n",
    "\n",
    "Here is some example code for reference:\n",
    "```python\n",
    "# Check for duplicates\n",
    "print(dataset.duplicated().sum())  # Number of duplicate rows\n",
    "\n",
    "# View duplicate rows\n",
    "print(dataset[dataset.duplicated()]\n",
    "\n",
    "# Remove duplicates\n",
    "dataset = dataset.drop_duplicates().reset_index(drop=True)\n",
    "\n",
    "# Confirm removal\n",
    "print(dataset.duplicated().sum())  # Should return 0\n",
    "```\n",
    "\n",
    "Repeat this process for all datasets to ensure they are free of duplicate rows."
   ]
  },
  {
   "cell_type": "markdown",
   "id": "f179f0a9",
   "metadata": {
    "id": "f179f0a9"
   },
   "source": [
    "### `orders` data frame"
   ]
  },
  {
   "cell_type": "code",
   "execution_count": 21,
   "id": "bb1a8c31-0a95-487a-98fc-c040228245f6",
   "metadata": {
    "id": "bb1a8c31-0a95-487a-98fc-c040228245f6"
   },
   "outputs": [
    {
     "name": "stdout",
     "output_type": "stream",
     "text": [
      "15\n"
     ]
    }
   ],
   "source": [
    "# Find the number of duplicate rows in the orders dataframe\n",
    "print(orders.duplicated().sum())"
   ]
  },
  {
   "cell_type": "code",
   "execution_count": 22,
   "id": "b99297a5-405a-463d-8535-9adc3da4ad74",
   "metadata": {
    "id": "b99297a5-405a-463d-8535-9adc3da4ad74"
   },
   "outputs": [
    {
     "name": "stdout",
     "output_type": "stream",
     "text": [
      "0         False\n",
      "1         False\n",
      "2         False\n",
      "3         False\n",
      "4         False\n",
      "          ...  \n",
      "478962    False\n",
      "478963    False\n",
      "478964    False\n",
      "478965    False\n",
      "478966    False\n",
      "Length: 478967, dtype: bool\n"
     ]
    }
   ],
   "source": [
    "# View the duplicate rows\n",
    "print(orders.duplicated())\n"
   ]
  },
  {
   "cell_type": "code",
   "execution_count": 23,
   "id": "480563c7",
   "metadata": {
    "id": "480563c7"
   },
   "outputs": [],
   "source": [
    "# Remove duplicate orders\n",
    "orders = orders.drop_duplicates()"
   ]
  },
  {
   "cell_type": "code",
   "execution_count": 24,
   "id": "0b2396a2",
   "metadata": {
    "id": "0b2396a2"
   },
   "outputs": [
    {
     "name": "stdout",
     "output_type": "stream",
     "text": [
      "0\n"
     ]
    }
   ],
   "source": [
    "# Double check for duplicate rows\n",
    "print(orders.duplicated().sum())"
   ]
  },
  {
   "cell_type": "markdown",
   "id": "45e6bc46",
   "metadata": {
    "id": "45e6bc46"
   },
   "source": [
    "### `products` data frame"
   ]
  },
  {
   "cell_type": "code",
   "execution_count": 25,
   "id": "5f526b5b-8175-46fa-a0fd-441767d50e64",
   "metadata": {
    "id": "5f526b5b-8175-46fa-a0fd-441767d50e64"
   },
   "outputs": [
    {
     "name": "stdout",
     "output_type": "stream",
     "text": [
      "0\n"
     ]
    }
   ],
   "source": [
    "# Check for fully duplicate rows\n",
    "print(products.duplicated().sum())"
   ]
  },
  {
   "cell_type": "code",
   "execution_count": 26,
   "id": "88daa4f4",
   "metadata": {
    "id": "88daa4f4"
   },
   "outputs": [
    {
     "name": "stdout",
     "output_type": "stream",
     "text": [
      "0        False\n",
      "1        False\n",
      "2        False\n",
      "3        False\n",
      "4        False\n",
      "         ...  \n",
      "49689    False\n",
      "49690    False\n",
      "49691    False\n",
      "49692    False\n",
      "49693    False\n",
      "Name: product_id, Length: 49694, dtype: bool\n"
     ]
    }
   ],
   "source": [
    "# Check for just duplicate product IDs using subset='product_id' in duplicated()\n",
    "print(products['product_id'].duplicated())\n"
   ]
  },
  {
   "cell_type": "markdown",
   "id": "03c82be5-3463-4adb-a5eb-1755f011faa0",
   "metadata": {
    "id": "03c82be5-3463-4adb-a5eb-1755f011faa0"
   },
   "source": [
    "Hint: To identify duplicate product names more effectively, convert the names to lowercase for consistent comparison. Use the .str.lower() method on the product_name column to standardize the text before checking for duplicates."
   ]
  },
  {
   "cell_type": "code",
   "execution_count": 27,
   "id": "c773f0bf",
   "metadata": {
    "id": "c773f0bf"
   },
   "outputs": [
    {
     "name": "stdout",
     "output_type": "stream",
     "text": [
      "0        False\n",
      "1        False\n",
      "2        False\n",
      "3        False\n",
      "4        False\n",
      "         ...  \n",
      "49689     True\n",
      "49690     True\n",
      "49691     True\n",
      "49692     True\n",
      "49693     True\n",
      "Name: product_name, Length: 49694, dtype: bool\n"
     ]
    }
   ],
   "source": [
    "# Check for just duplicate product names (convert names to lowercase to compare better)\n",
    "duplicates = products['product_name'].str.lower().duplicated()\n",
    "print(duplicates)"
   ]
  },
  {
   "cell_type": "markdown",
   "id": "c502f00b-979b-4f6a-9457-569f412e1183",
   "metadata": {
    "id": "c502f00b-979b-4f6a-9457-569f412e1183"
   },
   "source": [
    "Let's see what that looks like in our dataset :"
   ]
  },
  {
   "cell_type": "code",
   "execution_count": 28,
   "id": "515b21b1-f458-4428-ba10-2820fef6158d",
   "metadata": {
    "id": "515b21b1-f458-4428-ba10-2820fef6158d"
   },
   "outputs": [
    {
     "data": {
      "text/html": [
       "<div>\n",
       "<style scoped>\n",
       "    .dataframe tbody tr th:only-of-type {\n",
       "        vertical-align: middle;\n",
       "    }\n",
       "\n",
       "    .dataframe tbody tr th {\n",
       "        vertical-align: top;\n",
       "    }\n",
       "\n",
       "    .dataframe thead th {\n",
       "        text-align: right;\n",
       "    }\n",
       "</style>\n",
       "<table border=\"1\" class=\"dataframe\">\n",
       "  <thead>\n",
       "    <tr style=\"text-align: right;\">\n",
       "      <th></th>\n",
       "      <th>product_id</th>\n",
       "      <th>product_name</th>\n",
       "      <th>aisle_id</th>\n",
       "      <th>department_id</th>\n",
       "    </tr>\n",
       "  </thead>\n",
       "  <tbody>\n",
       "    <tr>\n",
       "      <th>22540</th>\n",
       "      <td>22541</td>\n",
       "      <td>High Performance Energy Drink</td>\n",
       "      <td>64</td>\n",
       "      <td>7</td>\n",
       "    </tr>\n",
       "    <tr>\n",
       "      <th>49689</th>\n",
       "      <td>49690</td>\n",
       "      <td>HIGH PERFORMANCE ENERGY DRINK</td>\n",
       "      <td>64</td>\n",
       "      <td>7</td>\n",
       "    </tr>\n",
       "  </tbody>\n",
       "</table>\n",
       "</div>"
      ],
      "text/plain": [
       "       product_id                   product_name  aisle_id  department_id\n",
       "22540       22541  High Performance Energy Drink        64              7\n",
       "49689       49690  HIGH PERFORMANCE ENERGY DRINK        64              7"
      ]
     },
     "execution_count": 28,
     "metadata": {},
     "output_type": "execute_result"
    }
   ],
   "source": [
    "products[products['product_name'].str.lower() == 'high performance energy drink']"
   ]
  },
  {
   "cell_type": "code",
   "execution_count": 29,
   "id": "51a0e65f-2c0d-42f7-98d6-fd962a599a18",
   "metadata": {
    "id": "51a0e65f-2c0d-42f7-98d6-fd962a599a18"
   },
   "outputs": [
    {
     "name": "stdout",
     "output_type": "stream",
     "text": [
      "       product_id                                       product_name  \\\n",
      "0               1                         Chocolate Sandwich Cookies   \n",
      "1               2                                   All-Seasons Salt   \n",
      "2               3               Robust Golden Unsweetened Oolong Tea   \n",
      "3               4  Smart Ones Classic Favorites Mini Rigatoni Wit...   \n",
      "4               5                          Green Chile Anytime Sauce   \n",
      "...           ...                                                ...   \n",
      "49689       49690                      HIGH PERFORMANCE ENERGY DRINK   \n",
      "49690       49691                      ORIGINAL PANCAKE & WAFFLE MIX   \n",
      "49691       49692    ORGANIC INSTANT OATMEAL LIGHT MAPLE BROWN SUGAR   \n",
      "49692       49693                             SPRING WATER BODY WASH   \n",
      "49693       49694                            BURRITO- STEAK & CHEESE   \n",
      "\n",
      "       aisle_id  department_id  \n",
      "0            61             19  \n",
      "1           104             13  \n",
      "2            94              7  \n",
      "3            38              1  \n",
      "4             5             13  \n",
      "...         ...            ...  \n",
      "49689        64              7  \n",
      "49690       130             14  \n",
      "49691       130             14  \n",
      "49692       127             11  \n",
      "49693        38              1  \n",
      "\n",
      "[49694 rows x 4 columns]\n"
     ]
    }
   ],
   "source": [
    "# Drop duplicate product names (case insensitive)\n",
    "products = products.drop_duplicates(subset = 'product_id')\n",
    "print(products)"
   ]
  },
  {
   "cell_type": "markdown",
   "id": "60f30db1",
   "metadata": {
    "id": "60f30db1"
   },
   "source": [
    "### `departments` data frame"
   ]
  },
  {
   "cell_type": "code",
   "execution_count": 30,
   "id": "fb410ad4-0fbf-4b80-bb09-23fdea79afe3",
   "metadata": {
    "id": "fb410ad4-0fbf-4b80-bb09-23fdea79afe3"
   },
   "outputs": [
    {
     "data": {
      "text/html": [
       "<div>\n",
       "<style scoped>\n",
       "    .dataframe tbody tr th:only-of-type {\n",
       "        vertical-align: middle;\n",
       "    }\n",
       "\n",
       "    .dataframe tbody tr th {\n",
       "        vertical-align: top;\n",
       "    }\n",
       "\n",
       "    .dataframe thead th {\n",
       "        text-align: right;\n",
       "    }\n",
       "</style>\n",
       "<table border=\"1\" class=\"dataframe\">\n",
       "  <thead>\n",
       "    <tr style=\"text-align: right;\">\n",
       "      <th></th>\n",
       "      <th>department_id</th>\n",
       "      <th>department</th>\n",
       "    </tr>\n",
       "  </thead>\n",
       "  <tbody>\n",
       "  </tbody>\n",
       "</table>\n",
       "</div>"
      ],
      "text/plain": [
       "Empty DataFrame\n",
       "Columns: [department_id, department]\n",
       "Index: []"
      ]
     },
     "execution_count": 30,
     "metadata": {},
     "output_type": "execute_result"
    }
   ],
   "source": [
    "# Check for duplicate entries in the departments dataframe\n",
    "departments[departments.duplicated()]"
   ]
  },
  {
   "cell_type": "markdown",
   "id": "889349c1",
   "metadata": {
    "id": "889349c1"
   },
   "source": [
    "### `aisles` data frame"
   ]
  },
  {
   "cell_type": "code",
   "execution_count": 31,
   "id": "9da89fb9-4679-40f5-ad0d-c34df753a3f8",
   "metadata": {
    "id": "9da89fb9-4679-40f5-ad0d-c34df753a3f8"
   },
   "outputs": [
    {
     "name": "stdout",
     "output_type": "stream",
     "text": [
      "0\n",
      "Empty DataFrame\n",
      "Columns: [aisle_id, aisle]\n",
      "Index: []\n"
     ]
    }
   ],
   "source": [
    "# Check for aisles entries in the departments dataframe\n",
    "print(aisles.duplicated().sum())\n",
    "print(aisles[aisles.duplicated()])"
   ]
  },
  {
   "cell_type": "markdown",
   "id": "274cd06a",
   "metadata": {
    "id": "274cd06a"
   },
   "source": [
    "### `order_products` data frame"
   ]
  },
  {
   "cell_type": "code",
   "execution_count": 32,
   "id": "52326689-84a8-4b8f-a881-7c68780f62c9",
   "metadata": {
    "id": "52326689-84a8-4b8f-a881-7c68780f62c9"
   },
   "outputs": [
    {
     "name": "stdout",
     "output_type": "stream",
     "text": [
      "0\n",
      "Empty DataFrame\n",
      "Columns: [order_id, product_id, add_to_cart_order, reordered]\n",
      "Index: []\n"
     ]
    }
   ],
   "source": [
    "# Check for duplicate entries in the order_products dataframe\n",
    "print(order_products.duplicated().sum())\n",
    "print(order_products[order_products.duplicated()])"
   ]
  },
  {
   "cell_type": "markdown",
   "id": "e5952f1b-3a4a-4144-a58e-77d72e1ed599",
   "metadata": {
    "id": "e5952f1b-3a4a-4144-a58e-77d72e1ed599"
   },
   "source": [
    "We have now successfully cleaned our data. Let's begin our exploratory data analysis."
   ]
  },
  {
   "cell_type": "markdown",
   "id": "turkish-kidney",
   "metadata": {
    "id": "turkish-kidney"
   },
   "source": [
    "# [A] Easy (must complete all to pass)"
   ]
  },
  {
   "cell_type": "markdown",
   "id": "short-capability",
   "metadata": {
    "id": "short-capability"
   },
   "source": [
    "### [A1] Verify that the `'order_hour_of_day'` and `'order_dow'` values in the `orders` tables are sensible (i.e. `'order_hour_of_day'` ranges from 0 to 23 and `'order_dow'` ranges from 0 to 6)\n",
    "\n",
    "To verify that the values in the `order_hour_of_day` and `order_dow` columns are sensible:\n",
    "\n",
    "1. **Check unique values**: Use `.unique()` on each column to extract all distinct values present.\n",
    "2. **Sort the results**: Use `sorted()` to arrange the unique values in ascending order for easier verification.\n",
    "3. **Validate ranges**:\n",
    "   - Ensure `order_hour_of_day` values range from 0 to 23 (representing hours of the day).\n",
    "   - Ensure `order_dow` values range from 0 to 6 (representing days of the week).\n",
    "\n",
    "This process confirms that the data aligns with expected ranges and there are no out-of-bound or invalid entries."
   ]
  },
  {
   "cell_type": "code",
   "execution_count": 33,
   "id": "growing-fruit",
   "metadata": {
    "id": "growing-fruit"
   },
   "outputs": [
    {
     "name": "stdout",
     "output_type": "stream",
     "text": [
      "[0, 1, 2, 3, 4, 5, 6, 7, 8, 9, 10, 11, 12, 13, 14, 15, 16, 17, 18, 19, 20, 21, 22, 23]\n"
     ]
    }
   ],
   "source": [
    "print(sorted(orders['order_hour_of_day'].unique()))"
   ]
  },
  {
   "cell_type": "code",
   "execution_count": 34,
   "id": "accessory-malaysia",
   "metadata": {
    "id": "accessory-malaysia"
   },
   "outputs": [
    {
     "name": "stdout",
     "output_type": "stream",
     "text": [
      "[0, 1, 2, 3, 4, 5, 6]\n"
     ]
    }
   ],
   "source": [
    "print(sorted(orders['order_dow'].unique()))"
   ]
  },
  {
   "cell_type": "markdown",
   "id": "a6743a70",
   "metadata": {
    "id": "a6743a70"
   },
   "source": [
    "### [A2] What time of day do people shop for groceries?\n",
    "\n",
    "To determine the time of day people shop for groceries, analyze the order_hour_of_day column in the orders dataset. Use .value_counts() to count the number of orders placed at each hour, and then sort the results by the hour for a clear chronological order.\n",
    "\n",
    "Finally, visualize the data with a bar plot to easily observe the shopping trends across different times of the day."
   ]
  },
  {
   "cell_type": "code",
   "execution_count": 35,
   "id": "a36cca27",
   "metadata": {
    "id": "a36cca27"
   },
   "outputs": [
    {
     "name": "stdout",
     "output_type": "stream",
     "text": [
      "0      3180\n",
      "1      1763\n",
      "2       989\n",
      "3       770\n",
      "4       765\n",
      "5      1371\n",
      "6      4215\n",
      "7     13043\n",
      "8     25024\n",
      "9     35896\n",
      "10    40578\n",
      "11    40032\n",
      "12    38034\n",
      "13    39007\n",
      "14    39631\n",
      "15    39789\n",
      "16    38112\n",
      "17    31930\n",
      "18    25510\n",
      "19    19547\n",
      "20    14624\n",
      "21    11019\n",
      "22     8512\n",
      "23     5611\n",
      "Name: order_hour_of_day, dtype: int64\n"
     ]
    }
   ],
   "source": [
    "print(orders['order_hour_of_day'].value_counts().sort_index())"
   ]
  },
  {
   "cell_type": "code",
   "execution_count": 36,
   "id": "76247927",
   "metadata": {},
   "outputs": [
    {
     "data": {
      "image/png": "[encoded data removed]",
      "text/plain": [
       "<Figure size 1200x600 with 1 Axes>"
      ]
     },
     "metadata": {},
     "output_type": "display_data"
    }
   ],
   "source": [
    "# Set a style for cleaner visuals\n",
    "plt.style.use('ggplot')\n",
    "\n",
    "# Create the figure and axes\n",
    "plt.figure(figsize=(12, 6))\n",
    "orders['order_hour_of_day'].value_counts().sort_index().plot(kind='bar')\n",
    "\n",
    "# Titles and labels\n",
    "plt.title('Number of Orders by Hour of Day', fontsize=16)\n",
    "plt.xlabel('Hour of Day (0 = Midnight)', fontsize=12)\n",
    "plt.ylabel('Number of Orders', fontsize=12)\n",
    "plt.xticks(rotation=0)\n",
    "\n",
    "# Add grid for better readability\n",
    "plt.grid(axis='y', linestyle='--', alpha=0.7)\n",
    "\n",
    "# Show the plot\n",
    "plt.tight_layout()\n",
    "plt.show()"
   ]
  },
  {
   "cell_type": "markdown",
   "id": "11270eed",
   "metadata": {
    "id": "11270eed"
   },
   "source": [
    "Most orders occur between 9:00 AM and 5:00 PM, with peaks at 10:00 AM and 3:00 PM"
   ]
  },
  {
   "cell_type": "markdown",
   "id": "documented-command",
   "metadata": {
    "id": "documented-command"
   },
   "source": [
    "### [A3] What day of the week do people shop for groceries?\n",
    "\n",
    "To figure out what day of the week people shop for groceries, analyze the order_dow column in the orders dataset. Use .value_counts() to count the number of orders for each day of the week, and then sort the results by the day index to maintain the correct order.\n",
    "\n",
    "Visualize the data with a bar plot to clearly observe shopping patterns across the days of the week."
   ]
  },
  {
   "cell_type": "code",
   "execution_count": 37,
   "id": "chief-digit",
   "metadata": {
    "id": "chief-digit"
   },
   "outputs": [
    {
     "name": "stdout",
     "output_type": "stream",
     "text": [
      "0    84090\n",
      "1    82185\n",
      "2    65833\n",
      "3    60897\n",
      "4    59810\n",
      "5    63488\n",
      "6    62649\n",
      "Name: order_dow, dtype: int64\n"
     ]
    }
   ],
   "source": [
    "weekly_orders = orders['order_dow'].value_counts().sort_index()\n",
    "print(weekly_orders)"
   ]
  },
  {
   "cell_type": "code",
   "execution_count": 38,
   "id": "9257ec50",
   "metadata": {},
   "outputs": [
    {
     "data": {
      "image/png": "[encoded data removed]",
      "text/plain": [
       "<Figure size 1000x600 with 1 Axes>"
      ]
     },
     "metadata": {},
     "output_type": "display_data"
    }
   ],
   "source": [
    "# Define day name mapping (assuming 0 = Sunday, 6 = Saturday)\n",
    "day_names = ['Sunday', 'Monday', 'Tuesday', 'Wednesday', 'Thursday', 'Friday', 'Saturday']\n",
    "\n",
    "# Get the value counts sorted by day index\n",
    "weekly_orders = orders['order_dow'].value_counts().sort_index()\n",
    "\n",
    "# Plot\n",
    "plt.figure(figsize=(10, 6))\n",
    "weekly_orders.plot(kind='bar', color='skyblue')\n",
    "\n",
    "# Title and labels\n",
    "plt.title('Number of Orders by Day of the Week', fontsize=16)\n",
    "plt.xlabel('Day of the Week', fontsize=12)\n",
    "plt.ylabel('Number of Orders', fontsize=12)\n",
    "plt.xticks(ticks=range(7), labels=day_names, rotation=45)\n",
    "\n",
    "# Grid for better readability\n",
    "plt.grid(axis='y', linestyle='--', alpha=0.6)\n",
    "\n",
    "# Tidy layout\n",
    "plt.tight_layout()\n",
    "plt.show()"
   ]
  },
  {
   "cell_type": "markdown",
   "id": "dominant-lightning",
   "metadata": {
    "id": "dominant-lightning"
   },
   "source": [
    "The data dictionary does not state which integer corresponds to which day of the week. Assuming Sunday = 0, then people place more orders at the beginning of the week (Sunday and Monday)."
   ]
  },
  {
   "cell_type": "markdown",
   "id": "cutting-concert",
   "metadata": {
    "id": "cutting-concert"
   },
   "source": [
    "### [A4] How long do people wait until placing another order?\n",
    "\n",
    "To understand how long people wait before placing another order, analyze the days_since_prior_order column in the orders dataset. Use .value_counts() to count how many orders were placed for each interval of days, then sort the results by the number of days for clarity.\n",
    "\n",
    "Visualize the data using a bar plot to observe patterns in ordering frequency over time."
   ]
  },
  {
   "cell_type": "code",
   "execution_count": 39,
   "id": "c231f523",
   "metadata": {
    "id": "c231f523"
   },
   "outputs": [
    {
     "name": "stdout",
     "output_type": "stream",
     "text": [
      "0.0      9589\n",
      "1.0     20179\n",
      "2.0     27138\n",
      "3.0     30224\n",
      "4.0     31006\n",
      "5.0     30096\n",
      "6.0     33930\n",
      "7.0     44577\n",
      "8.0     25361\n",
      "9.0     16753\n",
      "10.0    13309\n",
      "11.0    11467\n",
      "12.0    10658\n",
      "13.0    11737\n",
      "14.0    13992\n",
      "15.0     9416\n",
      "16.0     6587\n",
      "17.0     5498\n",
      "18.0     4971\n",
      "19.0     4939\n",
      "20.0     5302\n",
      "21.0     6448\n",
      "22.0     4514\n",
      "23.0     3337\n",
      "24.0     3015\n",
      "25.0     2711\n",
      "26.0     2640\n",
      "27.0     2986\n",
      "28.0     3745\n",
      "29.0     2673\n",
      "30.0    51337\n",
      "Name: days_since_prior_order, dtype: int64\n"
     ]
    }
   ],
   "source": [
    "order_placement_time = orders[\"days_since_prior_order\"].value_counts().sort_index()\n",
    "print(order_placement_time)"
   ]
  },
  {
   "cell_type": "code",
   "execution_count": 40,
   "id": "3fea50b3",
   "metadata": {},
   "outputs": [
    {
     "data": {
      "text/plain": [
       "<AxesSubplot:>"
      ]
     },
     "execution_count": 40,
     "metadata": {},
     "output_type": "execute_result"
    },
    {
     "data": {
      "image/png": "[encoded data removed]",
      "text/plain": [
       "<Figure size 640x480 with 1 Axes>"
      ]
     },
     "metadata": {},
     "output_type": "display_data"
    }
   ],
   "source": [
    "order_placement_time.plot(kind = 'bar')"
   ]
  },
  {
   "cell_type": "markdown",
   "id": "discrete-vertex",
   "metadata": {
    "id": "discrete-vertex"
   },
   "source": [
    "The 0 values probably correspond to customers who placed more than one order on the same day.\n",
    "\n",
    "The max value of 30 days and the high spike at that value is puzzling though. The spike might be explained by people who set up recurring subscriptions to automatically order once a month. But that doesn't explain why there are no values above 30 days. I would expect many customers to place orders less often than once a month. Maybe those customers were intentionally excluded from the dataset."
   ]
  },
  {
   "cell_type": "markdown",
   "id": "8d926614",
   "metadata": {
    "id": "8d926614"
   },
   "source": [
    "Disregarding the spike at 30 days, most people wait between 2 to 10 days in between orders. The most common wait time is 7 days. In other words, it's common for people to place weekly grocery orders. Interestingly, in the tail of the distribution we also see small spikes at 14, 21, and 28 days. These would correspond to orders every 2, 3, or 4 weeks."
   ]
  },
  {
   "cell_type": "markdown",
   "id": "tight-staff",
   "metadata": {
    "id": "tight-staff"
   },
   "source": [
    "# [B] Medium (must complete all to pass)"
   ]
  },
  {
   "cell_type": "markdown",
   "id": "7c968697",
   "metadata": {
    "id": "packed-classic"
   },
   "source": [
    "### [B1] Is there a difference in `'order_hour_of_day'` distributions on Wednesdays and Saturdays? Plot the histograms for both days and describe the differences that you see.\n",
    "\n",
    "To determine if there’s a difference in the `order_hour_of_day` distributions on Wednesdays and Saturdays, follow these steps:\n",
    "\n",
    "1. **Create masks** for Wednesday (`order_dow == 3`) and Saturday (`order_dow == 6`) to filter the orders data.\n",
    "2. **Count the order hours** for each day using `.value_counts()` and sort them by hour with `.sort_index()` for clarity.\n",
    "3. **Combine the counts** for both days into a single DataFrame using `pd.concat()`, and label the columns for easier interpretation.\n",
    "\n",
    "After preparing the data, plot histograms for both days to visually compare the distribution of order times. Look for patterns such as peaks or differences in the busiest times."
   ]
  },
  {
   "cell_type": "code",
   "execution_count": 41,
   "id": "d89b8403",
   "metadata": {
    "id": "d89b8403"
   },
   "outputs": [
    {
     "name": "stdout",
     "output_type": "stream",
     "text": [
      "0      373\n",
      "1      215\n",
      "2      106\n",
      "3      101\n",
      "4      108\n",
      "5      170\n",
      "6      643\n",
      "7     1732\n",
      "8     3125\n",
      "9     4490\n",
      "10    5026\n",
      "11    5004\n",
      "12    4688\n",
      "13    4674\n",
      "14    4774\n",
      "15    5163\n",
      "16    4976\n",
      "17    4175\n",
      "18    3463\n",
      "19    2652\n",
      "20    1917\n",
      "21    1450\n",
      "22    1154\n",
      "23     718\n",
      "Name: order_hour_of_day, dtype: int64\n"
     ]
    }
   ],
   "source": [
    "wed_orders = orders[orders['order_dow'] == 3]['order_hour_of_day'].value_counts().sort_index()\n",
    "print(wed_orders)"
   ]
  },
  {
   "cell_type": "code",
   "execution_count": 42,
   "id": "94e54e8a",
   "metadata": {
    "id": "94e54e8a"
   },
   "outputs": [
    {
     "name": "stdout",
     "output_type": "stream",
     "text": [
      "0      464\n",
      "1      254\n",
      "2      177\n",
      "3      125\n",
      "4      118\n",
      "5      161\n",
      "6      451\n",
      "7     1619\n",
      "8     3246\n",
      "9     4311\n",
      "10    4919\n",
      "11    5116\n",
      "12    5132\n",
      "13    5323\n",
      "14    5375\n",
      "15    5188\n",
      "16    5029\n",
      "17    4295\n",
      "18    3338\n",
      "19    2610\n",
      "20    1847\n",
      "21    1473\n",
      "22    1185\n",
      "23     893\n",
      "Name: order_hour_of_day, dtype: int64\n"
     ]
    }
   ],
   "source": [
    "sat_orders = orders[orders['order_dow'] == 6]['order_hour_of_day'].value_counts().sort_index()\n",
    "print(sat_orders)"
   ]
  },
  {
   "cell_type": "code",
   "execution_count": 43,
   "id": "797c90a8",
   "metadata": {
    "id": "797c90a8"
   },
   "outputs": [
    {
     "name": "stdout",
     "output_type": "stream",
     "text": [
      "    wednesday  saturday\n",
      "0         373       464\n",
      "1         215       254\n",
      "2         106       177\n",
      "3         101       125\n",
      "4         108       118\n",
      "5         170       161\n",
      "6         643       451\n",
      "7        1732      1619\n",
      "8        3125      3246\n",
      "9        4490      4311\n",
      "10       5026      4919\n",
      "11       5004      5116\n",
      "12       4688      5132\n",
      "13       4674      5323\n",
      "14       4774      5375\n",
      "15       5163      5188\n",
      "16       4976      5029\n",
      "17       4175      4295\n",
      "18       3463      3338\n",
      "19       2652      2610\n",
      "20       1917      1847\n",
      "21       1450      1473\n",
      "22       1154      1185\n",
      "23        718       893\n"
     ]
    }
   ],
   "source": [
    "pd_concat = pd.concat([wed_orders, sat_orders], axis = 1)\n",
    "pd_concat.columns = (\"wednesday\", \"saturday\")\n",
    "print(pd_concat)"
   ]
  },
  {
   "cell_type": "code",
   "execution_count": 44,
   "id": "35bcea30",
   "metadata": {
    "id": "35bcea30"
   },
   "outputs": [
    {
     "data": {
      "text/plain": [
       "<AxesSubplot:>"
      ]
     },
     "execution_count": 44,
     "metadata": {},
     "output_type": "execute_result"
    },
    {
     "data": {
      "image/png": "[encoded data removed]",
      "text/plain": [
       "<Figure size 640x480 with 1 Axes>"
      ]
     },
     "metadata": {},
     "output_type": "display_data"
    }
   ],
   "source": [
    "pd_concat.plot(kind = 'bar')"
   ]
  },
  {
   "cell_type": "markdown",
   "id": "charitable-congo",
   "metadata": {
    "id": "charitable-congo"
   },
   "source": [
    "There's a small dip from 11h to 13h on Wednesdays. This dip is absent on Saturdays. Maybe this dip can be attributed to people who don't use Instacart because they have lunch somewhere between 11h and 13h."
   ]
  },
  {
   "cell_type": "markdown",
   "id": "e3891143",
   "metadata": {
    "id": "e3891143"
   },
   "source": [
    "### [B2] What's the distribution for the number of orders per customer?\n",
    "\n",
    "To explore the distribution of the number of orders per customer:\n",
    "\n",
    "1. **Group the data** by `user_id` to calculate the total number of orders for each customer. Use `.groupby('user_id')` and count the `order_id` for each group.\n",
    "2. **Sort the results** using `.sort_values()` for better readability.\n",
    "3. **Visualize the distribution** using a histogram to observe how many orders most customers typically place.\n",
    "\n",
    "Adjust the number of bins in the histogram to refine the visualization and better capture the pattern."
   ]
  },
  {
   "cell_type": "code",
   "execution_count": 45,
   "id": "d8c26c23",
   "metadata": {
    "id": "d8c26c23"
   },
   "outputs": [
    {
     "name": "stdout",
     "output_type": "stream",
     "text": [
      "user_id\n",
      "2         2\n",
      "4         2\n",
      "5         1\n",
      "6         2\n",
      "7         2\n",
      "         ..\n",
      "206203    1\n",
      "206206    7\n",
      "206207    5\n",
      "206208    9\n",
      "206209    2\n",
      "Name: order_id, Length: 157437, dtype: int64\n"
     ]
    }
   ],
   "source": [
    "grouping_data_id = orders.groupby('user_id')['order_id'].count()\n",
    "print(grouping_data_id)"
   ]
  },
  {
   "cell_type": "code",
   "execution_count": 46,
   "id": "00e69a66",
   "metadata": {
    "id": "00e69a66"
   },
   "outputs": [
    {
     "data": {
      "text/plain": [
       "<AxesSubplot:xlabel='user_id'>"
      ]
     },
     "execution_count": 46,
     "metadata": {},
     "output_type": "execute_result"
    },
    {
     "data": {
      "image/png": "[encoded data removed]",
      "text/plain": [
       "<Figure size 640x480 with 1 Axes>"
      ]
     },
     "metadata": {},
     "output_type": "display_data"
    }
   ],
   "source": [
    "grouping_data_id_sorted = grouping_data_id.sort_values(ascending = False)\n",
    "grouping_data_id_sorted.head(10).plot(kind = 'bar')"
   ]
  },
  {
   "cell_type": "markdown",
   "id": "d2eff7d5",
   "metadata": {
    "id": "d2eff7d5"
   },
   "source": [
    "Most customers in the dataset have placed between 1 and 10 orders, with number of orders per customer sharply decreasing after just 1 order."
   ]
  },
  {
   "cell_type": "markdown",
   "id": "54a0319c",
   "metadata": {
    "id": "54a0319c"
   },
   "source": [
    "### [B3] What are the top 20 popular products (display their id and name)?\n",
    "\n",
    "To identify the top 20 most popular products:\n",
    "\n",
    "1. **Merge the datasets**: Combine `order_products` and `products` on `product_id` to access both the product IDs and names in a single DataFrame.\n",
    "2. **Group the data**: Group by both `product_id` and `product_name` to aggregate the order counts for each product using `.size()`.\n",
    "3. **Sort the results**: Use `.sort_values(ascending=False)` to rank products by their popularity.\n",
    "4. **Display the top 20**: Use `.head(20)` to focus on the most frequently ordered products.\n",
    "5. **Visualize the results**: Create a bar chart to highlight the top products and their order counts.\n",
    "\n",
    "This will give you a clear view of the most popular products and their ranking.\n"
   ]
  },
  {
   "cell_type": "code",
   "execution_count": 47,
   "id": "exterior-arizona",
   "metadata": {
    "id": "exterior-arizona",
    "scrolled": true
   },
   "outputs": [],
   "source": [
    "datasets_merged = order_products.merge(products, on = 'product_id'\n",
    ")\n"
   ]
  },
  {
   "cell_type": "code",
   "execution_count": 48,
   "id": "a51fb94b",
   "metadata": {},
   "outputs": [
    {
     "name": "stdout",
     "output_type": "stream",
     "text": [
      "product_id  product_name            \n",
      "24852       Banana                      66050\n",
      "13176       Bag of Organic Bananas      53297\n",
      "21137       Organic Strawberries        37039\n",
      "21903       Organic Baby Spinach        33971\n",
      "47209       Organic Hass Avocado        29773\n",
      "47766       Organic Avocado             24689\n",
      "47626       Large Lemon                 21495\n",
      "16797       Strawberries                20018\n",
      "26209       Limes                       19690\n",
      "27845       Organic Whole Milk          19600\n",
      "27966       Organic Raspberries         19197\n",
      "22935       Organic Yellow Onion        15898\n",
      "24964       Organic Garlic              15292\n",
      "45007       Organic Zucchini            14584\n",
      "39275       Organic Blueberries         13879\n",
      "49683       Cucumber Kirby              13675\n",
      "28204       Organic Fuji Apple          12544\n",
      "5876        Organic Lemon               12232\n",
      "8277        Apple Honeycrisp Organic    11993\n",
      "40706       Organic Grape Tomatoes      11781\n",
      "dtype: int64\n"
     ]
    }
   ],
   "source": [
    "grouping_products = datasets_merged.groupby(['product_id', 'product_name' ]).size().sort_values(ascending=False).head(20)\n",
    "print(grouping_products)\n",
    "\n"
   ]
  },
  {
   "cell_type": "code",
   "execution_count": 49,
   "id": "296e7615",
   "metadata": {},
   "outputs": [
    {
     "data": {
      "text/plain": [
       "<AxesSubplot:xlabel='product_id,product_name'>"
      ]
     },
     "execution_count": 49,
     "metadata": {},
     "output_type": "execute_result"
    },
    {
     "data": {
      "image/png": "[encoded data removed]",
      "text/plain": [
       "<Figure size 640x480 with 1 Axes>"
      ]
     },
     "metadata": {},
     "output_type": "display_data"
    }
   ],
   "source": [
    "grouping_products.plot(kind = 'bar')"
   ]
  },
  {
   "cell_type": "code",
   "execution_count": 50,
   "id": "universal-facial",
   "metadata": {
    "id": "universal-facial"
   },
   "outputs": [
    {
     "name": "stdout",
     "output_type": "stream",
     "text": [
      "<class 'pandas.core.frame.DataFrame'>\n",
      "Int64Index: 49694 entries, 0 to 49693\n",
      "Data columns (total 4 columns):\n",
      " #   Column         Non-Null Count  Dtype \n",
      "---  ------         --------------  ----- \n",
      " 0   product_id     49694 non-null  int64 \n",
      " 1   product_name   49694 non-null  object\n",
      " 2   aisle_id       49694 non-null  int64 \n",
      " 3   department_id  49694 non-null  int64 \n",
      "dtypes: int64(3), object(1)\n",
      "memory usage: 1.9+ MB\n"
     ]
    }
   ],
   "source": [
    "products.info()"
   ]
  },
  {
   "cell_type": "code",
   "execution_count": 51,
   "id": "bbcdd20b",
   "metadata": {
    "id": "bbcdd20b"
   },
   "outputs": [
    {
     "name": "stdout",
     "output_type": "stream",
     "text": [
      "<class 'pandas.core.frame.DataFrame'>\n",
      "RangeIndex: 4545007 entries, 0 to 4545006\n",
      "Data columns (total 4 columns):\n",
      " #   Column             Dtype\n",
      "---  ------             -----\n",
      " 0   order_id           int64\n",
      " 1   product_id         int64\n",
      " 2   add_to_cart_order  int64\n",
      " 3   reordered          int64\n",
      "dtypes: int64(4)\n",
      "memory usage: 138.7 MB\n"
     ]
    }
   ],
   "source": [
    "order_products.info()"
   ]
  },
  {
   "cell_type": "markdown",
   "id": "7df00f47",
   "metadata": {
    "id": "7df00f47"
   },
   "source": [
    "The top 20 items are all produce, except for the milk. Looks like people want delicious and nutritious!"
   ]
  },
  {
   "cell_type": "markdown",
   "id": "gross-theme",
   "metadata": {
    "id": "gross-theme"
   },
   "source": [
    "# [C] Hard (must complete at least two to pass)"
   ]
  },
  {
   "cell_type": "markdown",
   "id": "romantic-deposit",
   "metadata": {
    "id": "romantic-deposit"
   },
   "source": [
    "### [C1] How many items do people typically buy in one order? What does the distribution look like?\n",
    "To analyze how many items people typically buy in one order:\n",
    "\n",
    "1. **Group the data** by `order_id` and count the number of products (`product_id`) in each order using `.count()`. This gives the number of items in each order.\n",
    "2. **Aggregate the counts**: Use `.value_counts()` to determine how frequently different order sizes occur, and then sort the results with `.sort_index()` to organize by the number of items.\n",
    "3. **Visualize the distribution**: Use a bar plot to show the frequency of orders for each size, with the x-axis representing the number of items and the y-axis representing the number of orders.\n",
    "\n",
    "This will help you understand the typical size of a grocery order and identify any trends in purchasing behavior."
   ]
  },
  {
   "cell_type": "code",
   "execution_count": 52,
   "id": "5d0752ef",
   "metadata": {
    "id": "virtual-punch"
   },
   "outputs": [],
   "source": [
    "grouped_order_id = order_products.groupby('order_id')['product_id'].count().reset_index().rename(columns = {'product_id': 'product_count'})\n",
    "\n",
    "ordered_grouped_order_id = grouped_order_id.value_counts('product_count').sort_index()"
   ]
  },
  {
   "cell_type": "code",
   "execution_count": 53,
   "id": "sensitive-breathing",
   "metadata": {
    "id": "sensitive-breathing"
   },
   "outputs": [
    {
     "data": {
      "text/plain": [
       "<AxesSubplot:xlabel='product_count'>"
      ]
     },
     "execution_count": 53,
     "metadata": {},
     "output_type": "execute_result"
    },
    {
     "data": {
      "image/png": "[encoded data removed]",
      "text/plain": [
       "<Figure size 640x480 with 1 Axes>"
      ]
     },
     "metadata": {},
     "output_type": "display_data"
    }
   ],
   "source": [
    "ordered_grouped_order_id.plot(kind = 'bar')"
   ]
  },
  {
   "cell_type": "markdown",
   "id": "bd4ed530",
   "metadata": {
    "id": "bd4ed530"
   },
   "source": [
    "Most of the order numbers are in the tail of the distribution. To get a better look at the non-tail part, let's choose a value in the tail as a cutoff and just plot order with fewer than that many items. An order size of 35 items is far enough into the tail for this."
   ]
  },
  {
   "cell_type": "code",
   "execution_count": 54,
   "id": "completed-frank",
   "metadata": {
    "id": "completed-frank"
   },
   "outputs": [
    {
     "data": {
      "text/plain": [
       "<AxesSubplot:xlabel='product_count'>"
      ]
     },
     "execution_count": 54,
     "metadata": {},
     "output_type": "execute_result"
    },
    {
     "data": {
      "image/png": "[encoded data removed]",
      "text/plain": [
       "<Figure size 640x480 with 1 Axes>"
      ]
     },
     "metadata": {},
     "output_type": "display_data"
    }
   ],
   "source": [
    "ordered_grouped_order_id.head(35).plot(kind = 'bar')"
   ]
  },
  {
   "cell_type": "markdown",
   "id": "designed-mortality",
   "metadata": {
    "id": "designed-mortality"
   },
   "source": [
    "The typical order contains 5 or 6 items, with most orders having between 1 and 20 items."
   ]
  },
  {
   "cell_type": "markdown",
   "id": "5e6b5537",
   "metadata": {
    "id": "5e6b5537"
   },
   "source": [
    "### [C2] What are the top 20 items that are reordered most frequently (display their names and product IDs)?\n",
    "\n",
    "To find the top 20 most frequently reordered items:\n",
    "\n",
    "1. **Filter the data**: Use `order_products['reordered'] == 1` to isolate only the products that have been reordered.\n",
    "2. **Merge the datasets**: Combine the filtered `order_products` with the `products` dataset on `product_id` to get both the product names and IDs.\n",
    "3. **Group the data**: Group by both `product_id` and `product_name` to calculate how many times each product was reordered, using `.size()`.\n",
    "4. **Sort the results**: Use `.sort_values(ascending=False)` to rank the products by reorder frequency.\n",
    "5. **Display the top 20**: Use `.head(20)` to focus on the most frequently reordered products.\n",
    "6. **Visualize the data**: Create a bar chart to showcase the top reordered items and their frequencies.\n",
    "\n",
    "This process highlights the products that customers consistently return to and reorder."
   ]
  },
  {
   "cell_type": "code",
   "execution_count": 55,
   "id": "9374e55a",
   "metadata": {
    "id": "9374e55a"
   },
   "outputs": [
    {
     "name": "stdout",
     "output_type": "stream",
     "text": [
      "         order_id  product_id  add_to_cart_order  reordered\n",
      "1          567889        1560                  1          1\n",
      "2         2261212       26683                  1          1\n",
      "3          491251        8670                 35          1\n",
      "4         2571142        1940                  5          1\n",
      "5         2456893       21616                  4          1\n",
      "...           ...         ...                ...        ...\n",
      "4544999   1622300       24852                  1          1\n",
      "4545000   1125324       40600                  6          1\n",
      "4545002    577211       15290                 12          1\n",
      "4545004    692640       47766                  4          1\n",
      "4545005    319435         691                  8          1\n",
      "\n",
      "[2683838 rows x 4 columns]\n"
     ]
    }
   ],
   "source": [
    "reordered_order_products = order_products[order_products['reordered'] == 1]\n",
    "print(reordered_order_products)"
   ]
  },
  {
   "cell_type": "code",
   "execution_count": 56,
   "id": "possible-change",
   "metadata": {
    "id": "possible-change",
    "scrolled": true
   },
   "outputs": [
    {
     "name": "stdout",
     "output_type": "stream",
     "text": [
      "         order_id  product_id  add_to_cart_order  reordered  \\\n",
      "0          567889        1560                  1          1   \n",
      "1          761899        1560                  2          1   \n",
      "2         1388514        1560                  8          1   \n",
      "3         2629631        1560                  1          1   \n",
      "4          866921        1560                  6          1   \n",
      "...           ...         ...                ...        ...   \n",
      "2683833   1338379       33506                  3          1   \n",
      "2683834    191894       27878                  3          1   \n",
      "2683835   3041739       31751                 14          1   \n",
      "2683836    949244       24384                 18          1   \n",
      "2683837   1078099       47673                 11          1   \n",
      "\n",
      "                                              product_name  aisle_id  \\\n",
      "0                                               Bag Of Ice        37   \n",
      "1                                               Bag Of Ice        37   \n",
      "2                                               Bag Of Ice        37   \n",
      "3                                               Bag Of Ice        37   \n",
      "4                                               Bag Of Ice        37   \n",
      "...                                                    ...       ...   \n",
      "2683833  Simply 9 White Meat Chicken & Whole Barley Rec...        40   \n",
      "2683834        Crackers Wheat Sundried Tomato Basil Crispy        78   \n",
      "2683835                       French Style Cut Green Beans       116   \n",
      "2683836                        Invisible Matte Finish Tape        10   \n",
      "2683837         Toast Chee Peanut Butter Sandwich Crackers        78   \n",
      "\n",
      "         department_id  \n",
      "0                    1  \n",
      "1                    1  \n",
      "2                    1  \n",
      "3                    1  \n",
      "4                    1  \n",
      "...                ...  \n",
      "2683833              8  \n",
      "2683834             19  \n",
      "2683835              1  \n",
      "2683836             17  \n",
      "2683837             19  \n",
      "\n",
      "[2683838 rows x 7 columns]\n"
     ]
    }
   ],
   "source": [
    "reordered_merged = reordered_order_products.merge(products, on='product_id')\n",
    "print(reordered_merged)"
   ]
  },
  {
   "cell_type": "code",
   "execution_count": 57,
   "id": "professional-surfing",
   "metadata": {
    "id": "professional-surfing",
    "scrolled": true
   },
   "outputs": [
    {
     "name": "stdout",
     "output_type": "stream",
     "text": [
      "       product_id                                       product_name  \\\n",
      "0               1                         Chocolate Sandwich Cookies   \n",
      "1               3               Robust Golden Unsweetened Oolong Tea   \n",
      "2               4  Smart Ones Classic Favorites Mini Rigatoni Wit...   \n",
      "3               7                     Pure Coconut Water With Orange   \n",
      "4               8                  Cut Russet Potatoes Steam N' Mash   \n",
      "...           ...                                                ...   \n",
      "36223       49690                      HIGH PERFORMANCE ENERGY DRINK   \n",
      "36224       49691                      ORIGINAL PANCAKE & WAFFLE MIX   \n",
      "36225       49692    ORGANIC INSTANT OATMEAL LIGHT MAPLE BROWN SUGAR   \n",
      "36226       49693                             SPRING WATER BODY WASH   \n",
      "36227       49694                            BURRITO- STEAK & CHEESE   \n",
      "\n",
      "       reorder_count  \n",
      "0                158  \n",
      "1                 31  \n",
      "2                 25  \n",
      "3                  1  \n",
      "4                  6  \n",
      "...              ...  \n",
      "36223              4  \n",
      "36224             31  \n",
      "36225              5  \n",
      "36226             11  \n",
      "36227              3  \n",
      "\n",
      "[36228 rows x 3 columns]\n"
     ]
    }
   ],
   "source": [
    "reorder_counts = reordered_merged.groupby(['product_id', 'product_name']).size().reset_index(name='reorder_count')\n",
    "print(reorder_counts)"
   ]
  },
  {
   "cell_type": "code",
   "execution_count": 58,
   "id": "48dd3658",
   "metadata": {
    "id": "48dd3658"
   },
   "outputs": [
    {
     "name": "stdout",
     "output_type": "stream",
     "text": [
      "       product_id              product_name  reorder_count\n",
      "18104       24852                    Banana          55763\n",
      "9528        13176    Bag of Organic Bananas          44450\n",
      "15368       21137      Organic Strawberries          28639\n",
      "15936       21903      Organic Baby Spinach          26233\n",
      "34407       47209      Organic Hass Avocado          23629\n",
      "34828       47766           Organic Avocado          18743\n",
      "20285       27845        Organic Whole Milk          16251\n",
      "34725       47626               Large Lemon          15044\n",
      "20375       27966       Organic Raspberries          14748\n",
      "12193       16797              Strawberries          13945\n",
      "19088       26209                     Limes          13327\n",
      "16700       22935      Organic Yellow Onion          11145\n",
      "18186       24964            Organic Garlic          10411\n",
      "32792       45007          Organic Zucchini          10076\n",
      "36219       49683            Cucumber Kirby           9538\n",
      "20543       28204        Organic Fuji Apple           8989\n",
      "5978         8277  Apple Honeycrisp Organic           8836\n",
      "28607       39275       Organic Blueberries           8799\n",
      "4267         5876             Organic Lemon           8412\n",
      "35905       49235       Organic Half & Half           8389\n"
     ]
    }
   ],
   "source": [
    "top_reordered = reorder_counts.sort_values(by='reorder_count', ascending=False).head(20)\n",
    "print(top_reordered)"
   ]
  },
  {
   "cell_type": "code",
   "execution_count": 59,
   "id": "477eddf7",
   "metadata": {},
   "outputs": [
    {
     "data": {
      "image/png": "[encoded data removed]",
      "text/plain": [
       "<Figure size 1200x800 with 1 Axes>"
      ]
     },
     "metadata": {},
     "output_type": "display_data"
    }
   ],
   "source": [
    "plt.figure(figsize=(12, 8))\n",
    "plt.barh(top_reordered['product_name'][::-1], top_reordered['reorder_count'][::-1])\n",
    "plt.xlabel('Number of Reorders')\n",
    "plt.title('Top 20 Most Frequently Reordered Products')\n",
    "plt.tight_layout()\n",
    "plt.show()"
   ]
  },
  {
   "cell_type": "markdown",
   "id": "80e70c74",
   "metadata": {
    "id": "80e70c74"
   },
   "source": [
    "It looks like produce and dairy comprise the most reordered products as well. It makes sense that perishables would be the most reordered items."
   ]
  },
  {
   "cell_type": "markdown",
   "id": "9d312b14",
   "metadata": {
    "id": "9d312b14"
   },
   "source": [
    "### [C3] For each product, what proportion of its orders are reorders?\n",
    "\n",
    "To calculate the proportion of orders for each product that are reorders:\n",
    "\n",
    "1. **Merge the datasets**: Combine `order_products` with the `products` dataset to access product names and IDs in the same DataFrame.\n",
    "2. **Group the data**: Group by `product_id` and `product_name` to isolate each product's order history.\n",
    "3. **Calculate the mean of `reordered`**: Use `.mean()` on the `reordered` column to compute the proportion of orders for each product that were reorders. The value represents the reorder rate.\n",
    "4. **Sort the results**: Use `.sort_values(ascending=False)` to rank products by their reorder rates.\n",
    "5. **Convert to a DataFrame**: Use `.reset_index()` to organize the grouped data into a readable DataFrame.\n",
    "6. **Optional Sorting**: Sort the results by `product_id` or another column for better clarity.\n",
    "\n",
    "This approach provides insights into how frequently each product is reordered, helping identify customer favorites or staples.\n"
   ]
  },
  {
   "cell_type": "code",
   "execution_count": null,
   "id": "8ae9f4b1",
   "metadata": {
    "id": "8ae9f4b1"
   },
   "outputs": [],
   "source": []
  },
  {
   "cell_type": "code",
   "execution_count": null,
   "id": "103e7fe1",
   "metadata": {
    "id": "103e7fe1"
   },
   "outputs": [],
   "source": []
  },
  {
   "cell_type": "code",
   "execution_count": null,
   "id": "social-individual",
   "metadata": {
    "id": "social-individual"
   },
   "outputs": [],
   "source": []
  },
  {
   "cell_type": "markdown",
   "id": "subject-boxing",
   "metadata": {
    "id": "subject-boxing"
   },
   "source": [
    "### [C4] For each customer, what proportion of their products ordered are reorders?\n",
    "\n",
    "To calculate the proportion of products reordered by each customer:\n",
    "\n",
    "1. **Merge the datasets**: Combine `order_products` with `orders` to link order and customer information.\n",
    "2. **Group the data**: Group by `user_id` to focus on each customer's ordering behavior.\n",
    "3. **Calculate the mean of `reordered`**: Use `.mean()` on the `reordered` column to determine the proportion of products reordered by each customer.\n",
    "4. **Sort the results**: Use `.sort_values(ascending=False)` to identify customers with the highest reorder rates.\n",
    "5. **Convert to a DataFrame**: Use `.reset_index()` to format the grouped data into a structured DataFrame for further analysis.\n",
    "\n",
    "This analysis reveals the extent to which individual customers reorder products, providing insights into customer loyalty and preferences.\n"
   ]
  },
  {
   "cell_type": "code",
   "execution_count": null,
   "id": "medical-couple",
   "metadata": {
    "id": "medical-couple",
    "scrolled": true
   },
   "outputs": [],
   "source": []
  },
  {
   "cell_type": "code",
   "execution_count": null,
   "id": "8892e4b4",
   "metadata": {
    "id": "8892e4b4"
   },
   "outputs": [],
   "source": []
  },
  {
   "cell_type": "markdown",
   "id": "92d35137",
   "metadata": {
    "id": "92d35137"
   },
   "source": [
    "### [C5] What are the top 20 items that people put in their carts first?\n",
    "\n",
    "To identify the top 20 items that people most frequently add to their carts first:\n",
    "\n",
    "1. **Merge the datasets**: Combine `order_products` with `products` to link product names and IDs.\n",
    "2. **Filter the data**: Focus on rows where `add_to_cart_order` equals 1, indicating the first item added to the cart.\n",
    "3. **Group the data**: Group by `product_id` and `product_name` to aggregate the count of how often each product was the first in a cart.\n",
    "4. **Count occurrences**: Use `.count()` to calculate the total number of times each product was the first added.\n",
    "5. **Sort the results**: Use `.sort_values(ascending=False)` to rank products by their first-in-cart frequency.\n",
    "6. **Display the top 20**: Use `.head(20)` to extract the most popular first-in-cart items.\n",
    "\n",
    "This provides insights into which products customers prioritize in their shopping process.\n"
   ]
  },
  {
   "cell_type": "code",
   "execution_count": null,
   "id": "0ae57274",
   "metadata": {
    "id": "0ae57274",
    "scrolled": true
   },
   "outputs": [],
   "source": []
  },
  {
   "cell_type": "code",
   "execution_count": null,
   "id": "forty-netherlands",
   "metadata": {
    "id": "forty-netherlands",
    "scrolled": true
   },
   "outputs": [],
   "source": []
  },
  {
   "cell_type": "code",
   "execution_count": null,
   "id": "08e41ec2",
   "metadata": {
    "id": "08e41ec2"
   },
   "outputs": [],
   "source": []
  },
  {
   "cell_type": "markdown",
   "id": "28ce9872",
   "metadata": {
    "id": "28ce9872"
   },
   "source": [
    "The products that are most often placed into the cart first are produce, dairy, and beverages such as soda or water. I couldn't really say why that is without experience using Instacart because this could have more to do with app design than properties of the products. I do notice that there is considerable overlap between this result and the previous result for most popular and most reordered item types. It could simply be that the app prioritizes popular items as the first suggested purchases, so it happens to be more convenient for customers to place these items in their cart first."
   ]
  },
  {
   "cell_type": "code",
   "execution_count": null,
   "id": "f4a2af09",
   "metadata": {
    "id": "f4a2af09"
   },
   "outputs": [],
   "source": []
  }
 ],
 "metadata": {
  "ExecuteTimeLog": [
   {
    "duration": 167,
    "start_time": "2025-05-07T15:02:22.742Z"
   },
   {
    "duration": 10,
    "start_time": "2025-05-07T15:03:30.956Z"
   },
   {
    "duration": 11,
    "start_time": "2025-05-07T15:03:42.805Z"
   },
   {
    "duration": 2234,
    "start_time": "2025-05-07T15:03:53.356Z"
   },
   {
    "duration": 1023,
    "start_time": "2025-05-07T15:03:55.594Z"
   },
   {
    "duration": 13,
    "start_time": "2025-05-07T15:03:56.619Z"
   },
   {
    "duration": 20,
    "start_time": "2025-05-07T15:03:56.634Z"
   },
   {
    "duration": 3,
    "start_time": "2025-05-07T15:03:56.657Z"
   },
   {
    "duration": 3,
    "start_time": "2025-05-07T15:03:56.661Z"
   },
   {
    "duration": 3,
    "start_time": "2025-05-07T15:03:56.687Z"
   },
   {
    "duration": 3,
    "start_time": "2025-05-07T15:03:56.692Z"
   },
   {
    "duration": 2,
    "start_time": "2025-05-07T15:03:56.697Z"
   },
   {
    "duration": 3,
    "start_time": "2025-05-07T15:03:56.701Z"
   },
   {
    "duration": 3,
    "start_time": "2025-05-07T15:03:56.705Z"
   },
   {
    "duration": 3,
    "start_time": "2025-05-07T15:03:56.710Z"
   },
   {
    "duration": 3,
    "start_time": "2025-05-07T15:03:56.714Z"
   },
   {
    "duration": 2,
    "start_time": "2025-05-07T15:03:56.723Z"
   },
   {
    "duration": 4,
    "start_time": "2025-05-07T15:03:56.726Z"
   },
   {
    "duration": 3,
    "start_time": "2025-05-07T15:03:56.731Z"
   },
   {
    "duration": 3,
    "start_time": "2025-05-07T15:03:56.735Z"
   },
   {
    "duration": 3,
    "start_time": "2025-05-07T15:03:56.788Z"
   },
   {
    "duration": 2,
    "start_time": "2025-05-07T15:03:56.794Z"
   },
   {
    "duration": 2,
    "start_time": "2025-05-07T15:03:56.798Z"
   },
   {
    "duration": 2,
    "start_time": "2025-05-07T15:03:56.804Z"
   },
   {
    "duration": 3,
    "start_time": "2025-05-07T15:03:56.807Z"
   },
   {
    "duration": 3,
    "start_time": "2025-05-07T15:03:56.811Z"
   },
   {
    "duration": 3,
    "start_time": "2025-05-07T15:03:56.816Z"
   },
   {
    "duration": 3,
    "start_time": "2025-05-07T15:03:56.820Z"
   },
   {
    "duration": 20,
    "start_time": "2025-05-07T15:03:56.825Z"
   },
   {
    "duration": 42,
    "start_time": "2025-05-07T15:03:56.846Z"
   },
   {
    "duration": 7,
    "start_time": "2025-05-07T15:03:56.891Z"
   },
   {
    "duration": 2,
    "start_time": "2025-05-07T15:03:56.901Z"
   },
   {
    "duration": 3,
    "start_time": "2025-05-07T15:03:56.905Z"
   },
   {
    "duration": 14,
    "start_time": "2025-05-07T15:04:23.506Z"
   },
   {
    "duration": 10,
    "start_time": "2025-05-07T15:04:51.498Z"
   },
   {
    "duration": 221,
    "start_time": "2025-05-07T15:05:23.434Z"
   },
   {
    "duration": 9,
    "start_time": "2025-05-07T15:05:35.204Z"
   },
   {
    "duration": 28,
    "start_time": "2025-05-07T15:05:52.037Z"
   },
   {
    "duration": 13,
    "start_time": "2025-05-07T15:06:38.047Z"
   },
   {
    "duration": 438,
    "start_time": "2025-05-07T15:07:09.690Z"
   },
   {
    "duration": 946,
    "start_time": "2025-05-07T15:07:10.130Z"
   },
   {
    "duration": 14,
    "start_time": "2025-05-07T15:07:11.077Z"
   },
   {
    "duration": 10,
    "start_time": "2025-05-07T15:07:11.092Z"
   },
   {
    "duration": 10,
    "start_time": "2025-05-07T15:07:11.105Z"
   },
   {
    "duration": 209,
    "start_time": "2025-05-07T15:07:11.117Z"
   },
   {
    "duration": 0,
    "start_time": "2025-05-07T15:07:11.328Z"
   },
   {
    "duration": 0,
    "start_time": "2025-05-07T15:07:11.330Z"
   },
   {
    "duration": 0,
    "start_time": "2025-05-07T15:07:11.331Z"
   },
   {
    "duration": 0,
    "start_time": "2025-05-07T15:07:11.333Z"
   },
   {
    "duration": 0,
    "start_time": "2025-05-07T15:07:11.334Z"
   },
   {
    "duration": 0,
    "start_time": "2025-05-07T15:07:11.336Z"
   },
   {
    "duration": 0,
    "start_time": "2025-05-07T15:07:11.337Z"
   },
   {
    "duration": 0,
    "start_time": "2025-05-07T15:07:11.338Z"
   },
   {
    "duration": 0,
    "start_time": "2025-05-07T15:07:11.339Z"
   },
   {
    "duration": 0,
    "start_time": "2025-05-07T15:07:11.341Z"
   },
   {
    "duration": 0,
    "start_time": "2025-05-07T15:07:11.342Z"
   },
   {
    "duration": 0,
    "start_time": "2025-05-07T15:07:11.343Z"
   },
   {
    "duration": 0,
    "start_time": "2025-05-07T15:07:11.345Z"
   },
   {
    "duration": 0,
    "start_time": "2025-05-07T15:07:11.346Z"
   },
   {
    "duration": 0,
    "start_time": "2025-05-07T15:07:11.348Z"
   },
   {
    "duration": 0,
    "start_time": "2025-05-07T15:07:11.349Z"
   },
   {
    "duration": 0,
    "start_time": "2025-05-07T15:07:11.350Z"
   },
   {
    "duration": 0,
    "start_time": "2025-05-07T15:07:11.352Z"
   },
   {
    "duration": 0,
    "start_time": "2025-05-07T15:07:11.353Z"
   },
   {
    "duration": 0,
    "start_time": "2025-05-07T15:07:11.387Z"
   },
   {
    "duration": 0,
    "start_time": "2025-05-07T15:07:11.388Z"
   },
   {
    "duration": 0,
    "start_time": "2025-05-07T15:07:11.390Z"
   },
   {
    "duration": 0,
    "start_time": "2025-05-07T15:07:11.391Z"
   },
   {
    "duration": 0,
    "start_time": "2025-05-07T15:07:11.391Z"
   },
   {
    "duration": 398,
    "start_time": "2025-05-07T16:13:46.755Z"
   },
   {
    "duration": 894,
    "start_time": "2025-05-07T16:13:47.155Z"
   },
   {
    "duration": 11,
    "start_time": "2025-05-07T16:13:48.051Z"
   },
   {
    "duration": 8,
    "start_time": "2025-05-07T16:13:48.064Z"
   },
   {
    "duration": 23,
    "start_time": "2025-05-07T16:13:48.073Z"
   },
   {
    "duration": 201,
    "start_time": "2025-05-07T16:13:48.097Z"
   },
   {
    "duration": 0,
    "start_time": "2025-05-07T16:13:48.300Z"
   },
   {
    "duration": 0,
    "start_time": "2025-05-07T16:13:48.301Z"
   },
   {
    "duration": 0,
    "start_time": "2025-05-07T16:13:48.302Z"
   },
   {
    "duration": 0,
    "start_time": "2025-05-07T16:13:48.304Z"
   },
   {
    "duration": 0,
    "start_time": "2025-05-07T16:13:48.304Z"
   },
   {
    "duration": 0,
    "start_time": "2025-05-07T16:13:48.305Z"
   },
   {
    "duration": 0,
    "start_time": "2025-05-07T16:13:48.306Z"
   },
   {
    "duration": 0,
    "start_time": "2025-05-07T16:13:48.307Z"
   },
   {
    "duration": 0,
    "start_time": "2025-05-07T16:13:48.308Z"
   },
   {
    "duration": 0,
    "start_time": "2025-05-07T16:13:48.310Z"
   },
   {
    "duration": 0,
    "start_time": "2025-05-07T16:13:48.310Z"
   },
   {
    "duration": 0,
    "start_time": "2025-05-07T16:13:48.312Z"
   },
   {
    "duration": 0,
    "start_time": "2025-05-07T16:13:48.313Z"
   },
   {
    "duration": 0,
    "start_time": "2025-05-07T16:13:48.314Z"
   },
   {
    "duration": 0,
    "start_time": "2025-05-07T16:13:48.315Z"
   },
   {
    "duration": 0,
    "start_time": "2025-05-07T16:13:48.317Z"
   },
   {
    "duration": 0,
    "start_time": "2025-05-07T16:13:48.318Z"
   },
   {
    "duration": 0,
    "start_time": "2025-05-07T16:13:48.319Z"
   },
   {
    "duration": 0,
    "start_time": "2025-05-07T16:13:48.322Z"
   },
   {
    "duration": 0,
    "start_time": "2025-05-07T16:13:48.323Z"
   },
   {
    "duration": 0,
    "start_time": "2025-05-07T16:13:48.327Z"
   },
   {
    "duration": 0,
    "start_time": "2025-05-07T16:13:48.328Z"
   },
   {
    "duration": 0,
    "start_time": "2025-05-07T16:13:48.330Z"
   },
   {
    "duration": 0,
    "start_time": "2025-05-07T16:13:48.332Z"
   },
   {
    "duration": 23,
    "start_time": "2025-05-07T16:14:34.545Z"
   },
   {
    "duration": 13,
    "start_time": "2025-05-07T16:22:32.719Z"
   },
   {
    "duration": 159,
    "start_time": "2025-05-07T23:34:44.268Z"
   },
   {
    "duration": 12,
    "start_time": "2025-05-07T23:35:46.724Z"
   },
   {
    "duration": 7,
    "start_time": "2025-05-07T23:36:52.304Z"
   },
   {
    "duration": 12,
    "start_time": "2025-05-07T23:37:04.697Z"
   },
   {
    "duration": 12,
    "start_time": "2025-05-07T23:37:22.413Z"
   },
   {
    "duration": 14,
    "start_time": "2025-05-07T23:37:52.820Z"
   },
   {
    "duration": 11,
    "start_time": "2025-05-08T03:33:36.504Z"
   },
   {
    "duration": 2183,
    "start_time": "2025-05-08T03:33:50.021Z"
   },
   {
    "duration": 979,
    "start_time": "2025-05-08T03:33:52.206Z"
   },
   {
    "duration": 12,
    "start_time": "2025-05-08T03:33:53.186Z"
   },
   {
    "duration": 19,
    "start_time": "2025-05-08T03:33:53.199Z"
   },
   {
    "duration": 10,
    "start_time": "2025-05-08T03:33:53.220Z"
   },
   {
    "duration": 32,
    "start_time": "2025-05-08T03:33:53.231Z"
   },
   {
    "duration": 637,
    "start_time": "2025-05-08T03:33:53.265Z"
   },
   {
    "duration": 0,
    "start_time": "2025-05-08T03:33:53.904Z"
   },
   {
    "duration": 0,
    "start_time": "2025-05-08T03:33:53.905Z"
   },
   {
    "duration": 0,
    "start_time": "2025-05-08T03:33:53.912Z"
   },
   {
    "duration": 0,
    "start_time": "2025-05-08T03:33:53.913Z"
   },
   {
    "duration": 0,
    "start_time": "2025-05-08T03:33:53.914Z"
   },
   {
    "duration": 0,
    "start_time": "2025-05-08T03:33:53.915Z"
   },
   {
    "duration": 0,
    "start_time": "2025-05-08T03:33:53.916Z"
   },
   {
    "duration": 0,
    "start_time": "2025-05-08T03:33:53.917Z"
   },
   {
    "duration": 0,
    "start_time": "2025-05-08T03:33:53.918Z"
   },
   {
    "duration": 0,
    "start_time": "2025-05-08T03:33:53.919Z"
   },
   {
    "duration": 0,
    "start_time": "2025-05-08T03:33:53.920Z"
   },
   {
    "duration": 0,
    "start_time": "2025-05-08T03:33:53.921Z"
   },
   {
    "duration": 0,
    "start_time": "2025-05-08T03:33:53.923Z"
   },
   {
    "duration": 0,
    "start_time": "2025-05-08T03:33:53.924Z"
   },
   {
    "duration": 0,
    "start_time": "2025-05-08T03:33:53.925Z"
   },
   {
    "duration": 0,
    "start_time": "2025-05-08T03:33:53.926Z"
   },
   {
    "duration": 0,
    "start_time": "2025-05-08T03:33:53.927Z"
   },
   {
    "duration": 0,
    "start_time": "2025-05-08T03:33:53.928Z"
   },
   {
    "duration": 0,
    "start_time": "2025-05-08T03:33:53.929Z"
   },
   {
    "duration": 0,
    "start_time": "2025-05-08T03:33:53.931Z"
   },
   {
    "duration": 0,
    "start_time": "2025-05-08T03:33:53.932Z"
   },
   {
    "duration": 0,
    "start_time": "2025-05-08T03:33:53.933Z"
   },
   {
    "duration": 0,
    "start_time": "2025-05-08T03:33:53.934Z"
   },
   {
    "duration": 4,
    "start_time": "2025-05-08T03:35:11.922Z"
   },
   {
    "duration": 9,
    "start_time": "2025-05-08T03:35:29.236Z"
   },
   {
    "duration": 8,
    "start_time": "2025-05-08T03:36:39.918Z"
   },
   {
    "duration": 17,
    "start_time": "2025-05-08T03:42:20.731Z"
   },
   {
    "duration": 13,
    "start_time": "2025-05-08T03:42:32.520Z"
   },
   {
    "duration": 12,
    "start_time": "2025-05-08T03:42:40.816Z"
   },
   {
    "duration": 13,
    "start_time": "2025-05-08T03:43:22.066Z"
   },
   {
    "duration": 9,
    "start_time": "2025-05-08T03:44:03.066Z"
   },
   {
    "duration": 7,
    "start_time": "2025-05-08T03:45:52.455Z"
   },
   {
    "duration": 4,
    "start_time": "2025-05-08T03:48:19.474Z"
   },
   {
    "duration": 3,
    "start_time": "2025-05-08T03:48:39.342Z"
   },
   {
    "duration": 3,
    "start_time": "2025-05-08T03:48:53.477Z"
   },
   {
    "duration": 11,
    "start_time": "2025-05-08T03:49:05.384Z"
   },
   {
    "duration": 41,
    "start_time": "2025-05-08T03:49:53.776Z"
   },
   {
    "duration": 7,
    "start_time": "2025-05-08T03:51:03.238Z"
   },
   {
    "duration": 6,
    "start_time": "2025-05-08T03:51:57.816Z"
   },
   {
    "duration": 40,
    "start_time": "2025-05-08T03:57:14.685Z"
   },
   {
    "duration": 5,
    "start_time": "2025-05-08T03:57:29.916Z"
   },
   {
    "duration": 5,
    "start_time": "2025-05-08T03:57:35.285Z"
   },
   {
    "duration": 12,
    "start_time": "2025-05-08T03:58:35.073Z"
   },
   {
    "duration": 8,
    "start_time": "2025-05-08T03:58:43.373Z"
   },
   {
    "duration": 9,
    "start_time": "2025-05-08T04:03:08.688Z"
   },
   {
    "duration": 41,
    "start_time": "2025-05-08T04:05:21.414Z"
   },
   {
    "duration": 9,
    "start_time": "2025-05-08T04:05:40.707Z"
   },
   {
    "duration": 10,
    "start_time": "2025-05-08T04:17:57.665Z"
   },
   {
    "duration": 12,
    "start_time": "2025-05-08T04:18:08.289Z"
   },
   {
    "duration": 10,
    "start_time": "2025-05-08T04:19:12.578Z"
   },
   {
    "duration": 52,
    "start_time": "2025-05-08T04:19:36.584Z"
   },
   {
    "duration": 31,
    "start_time": "2025-05-08T04:20:09.590Z"
   },
   {
    "duration": 51,
    "start_time": "2025-05-08T04:20:15.990Z"
   },
   {
    "duration": 27,
    "start_time": "2025-05-08T04:20:34.980Z"
   },
   {
    "duration": 51,
    "start_time": "2025-05-08T04:20:49.329Z"
   },
   {
    "duration": 50,
    "start_time": "2025-05-08T04:21:05.066Z"
   },
   {
    "duration": 14,
    "start_time": "2025-05-08T04:23:03.383Z"
   },
   {
    "duration": 13,
    "start_time": "2025-05-08T04:24:40.028Z"
   },
   {
    "duration": 13,
    "start_time": "2025-05-08T04:24:59.524Z"
   },
   {
    "duration": 14,
    "start_time": "2025-05-08T04:27:16.176Z"
   },
   {
    "duration": 8,
    "start_time": "2025-05-08T04:28:24.719Z"
   },
   {
    "duration": 16,
    "start_time": "2025-05-08T04:30:16.023Z"
   },
   {
    "duration": 8,
    "start_time": "2025-05-08T04:30:25.962Z"
   },
   {
    "duration": 4,
    "start_time": "2025-05-08T04:33:34.443Z"
   },
   {
    "duration": 1119,
    "start_time": "2025-05-08T04:33:51.099Z"
   },
   {
    "duration": 13,
    "start_time": "2025-05-08T04:34:17.121Z"
   },
   {
    "duration": 7,
    "start_time": "2025-05-08T04:35:51.065Z"
   },
   {
    "duration": 2,
    "start_time": "2025-05-08T04:35:52.380Z"
   },
   {
    "duration": 9,
    "start_time": "2025-05-08T04:37:32.267Z"
   },
   {
    "duration": 76,
    "start_time": "2025-05-08T04:46:19.552Z"
   },
   {
    "duration": 62,
    "start_time": "2025-05-08T04:46:51.655Z"
   },
   {
    "duration": 628,
    "start_time": "2025-05-08T04:55:14.328Z"
   },
   {
    "duration": 8,
    "start_time": "2025-05-08T04:55:51.885Z"
   },
   {
    "duration": 8,
    "start_time": "2025-05-08T04:56:13.307Z"
   },
   {
    "duration": 28,
    "start_time": "2025-05-08T04:59:35.657Z"
   },
   {
    "duration": 21,
    "start_time": "2025-05-08T04:59:44.276Z"
   },
   {
    "duration": 187,
    "start_time": "2025-05-09T16:04:05.970Z"
   },
   {
    "duration": 15,
    "start_time": "2025-05-09T16:04:17.694Z"
   },
   {
    "duration": 2447,
    "start_time": "2025-05-09T16:04:24.421Z"
   },
   {
    "duration": 1182,
    "start_time": "2025-05-09T16:04:26.870Z"
   },
   {
    "duration": 12,
    "start_time": "2025-05-09T16:04:28.053Z"
   },
   {
    "duration": 9,
    "start_time": "2025-05-09T16:04:28.067Z"
   },
   {
    "duration": 13,
    "start_time": "2025-05-09T16:04:28.086Z"
   },
   {
    "duration": 33,
    "start_time": "2025-05-09T16:04:28.101Z"
   },
   {
    "duration": 11,
    "start_time": "2025-05-09T16:04:28.136Z"
   },
   {
    "duration": 8,
    "start_time": "2025-05-09T16:04:28.148Z"
   },
   {
    "duration": 30,
    "start_time": "2025-05-09T16:04:28.158Z"
   },
   {
    "duration": 12,
    "start_time": "2025-05-09T16:04:28.191Z"
   },
   {
    "duration": 10,
    "start_time": "2025-05-09T16:04:28.207Z"
   },
   {
    "duration": 10,
    "start_time": "2025-05-09T16:04:28.221Z"
   },
   {
    "duration": 9,
    "start_time": "2025-05-09T16:04:28.233Z"
   },
   {
    "duration": 6,
    "start_time": "2025-05-09T16:04:28.246Z"
   },
   {
    "duration": 49,
    "start_time": "2025-05-09T16:04:28.253Z"
   },
   {
    "duration": 63,
    "start_time": "2025-05-09T16:04:28.304Z"
   },
   {
    "duration": 41,
    "start_time": "2025-05-09T16:04:28.369Z"
   },
   {
    "duration": 74,
    "start_time": "2025-05-09T16:04:28.418Z"
   },
   {
    "duration": 35,
    "start_time": "2025-05-09T16:04:28.494Z"
   },
   {
    "duration": 6,
    "start_time": "2025-05-09T16:04:28.531Z"
   },
   {
    "duration": 3,
    "start_time": "2025-05-09T16:04:28.539Z"
   },
   {
    "duration": 3,
    "start_time": "2025-05-09T16:04:28.543Z"
   },
   {
    "duration": 3,
    "start_time": "2025-05-09T16:04:28.548Z"
   },
   {
    "duration": 3,
    "start_time": "2025-05-09T16:04:28.552Z"
   },
   {
    "duration": 31,
    "start_time": "2025-05-09T16:04:28.556Z"
   },
   {
    "duration": 4,
    "start_time": "2025-05-09T16:04:28.588Z"
   },
   {
    "duration": 29,
    "start_time": "2025-05-09T16:04:28.593Z"
   },
   {
    "duration": 3,
    "start_time": "2025-05-09T16:04:28.624Z"
   },
   {
    "duration": 10,
    "start_time": "2025-05-09T16:04:28.628Z"
   },
   {
    "duration": 3,
    "start_time": "2025-05-09T16:04:28.640Z"
   },
   {
    "duration": 4,
    "start_time": "2025-05-09T16:04:28.644Z"
   },
   {
    "duration": 5,
    "start_time": "2025-05-09T16:05:42.748Z"
   },
   {
    "duration": 109,
    "start_time": "2025-05-09T16:06:16.998Z"
   },
   {
    "duration": 107,
    "start_time": "2025-05-09T16:07:07.002Z"
   },
   {
    "duration": 83,
    "start_time": "2025-05-09T16:07:14.351Z"
   },
   {
    "duration": 89,
    "start_time": "2025-05-09T16:08:17.287Z"
   },
   {
    "duration": 103,
    "start_time": "2025-05-09T16:09:32.475Z"
   },
   {
    "duration": 92,
    "start_time": "2025-05-09T16:09:43.444Z"
   },
   {
    "duration": 94,
    "start_time": "2025-05-09T16:10:29.915Z"
   },
   {
    "duration": 445,
    "start_time": "2025-05-09T16:10:44.210Z"
   },
   {
    "duration": 898,
    "start_time": "2025-05-09T16:10:44.657Z"
   },
   {
    "duration": 12,
    "start_time": "2025-05-09T16:10:45.557Z"
   },
   {
    "duration": 18,
    "start_time": "2025-05-09T16:10:45.572Z"
   },
   {
    "duration": 10,
    "start_time": "2025-05-09T16:10:45.592Z"
   },
   {
    "duration": 23,
    "start_time": "2025-05-09T16:10:45.603Z"
   },
   {
    "duration": 8,
    "start_time": "2025-05-09T16:10:45.628Z"
   },
   {
    "duration": 7,
    "start_time": "2025-05-09T16:10:45.639Z"
   },
   {
    "duration": 40,
    "start_time": "2025-05-09T16:10:45.647Z"
   },
   {
    "duration": 7,
    "start_time": "2025-05-09T16:10:45.690Z"
   },
   {
    "duration": 5,
    "start_time": "2025-05-09T16:10:45.699Z"
   },
   {
    "duration": 8,
    "start_time": "2025-05-09T16:10:45.706Z"
   },
   {
    "duration": 8,
    "start_time": "2025-05-09T16:10:45.717Z"
   },
   {
    "duration": 5,
    "start_time": "2025-05-09T16:10:45.727Z"
   },
   {
    "duration": 53,
    "start_time": "2025-05-09T16:10:45.734Z"
   },
   {
    "duration": 51,
    "start_time": "2025-05-09T16:10:45.790Z"
   },
   {
    "duration": 8,
    "start_time": "2025-05-09T16:10:45.842Z"
   },
   {
    "duration": 82,
    "start_time": "2025-05-09T16:10:45.851Z"
   },
   {
    "duration": 25,
    "start_time": "2025-05-09T16:10:45.935Z"
   },
   {
    "duration": 96,
    "start_time": "2025-05-09T16:10:45.962Z"
   },
   {
    "duration": 86,
    "start_time": "2025-05-09T16:10:46.059Z"
   },
   {
    "duration": 98,
    "start_time": "2025-05-09T16:10:46.147Z"
   },
   {
    "duration": 86,
    "start_time": "2025-05-09T16:10:46.248Z"
   },
   {
    "duration": 2,
    "start_time": "2025-05-09T16:10:46.336Z"
   },
   {
    "duration": 2,
    "start_time": "2025-05-09T16:10:46.339Z"
   },
   {
    "duration": 3,
    "start_time": "2025-05-09T16:10:46.343Z"
   },
   {
    "duration": 19,
    "start_time": "2025-05-09T16:10:46.347Z"
   },
   {
    "duration": 3,
    "start_time": "2025-05-09T16:10:46.388Z"
   },
   {
    "duration": 6,
    "start_time": "2025-05-09T16:10:46.392Z"
   },
   {
    "duration": 3,
    "start_time": "2025-05-09T16:10:46.399Z"
   },
   {
    "duration": 2,
    "start_time": "2025-05-09T16:10:46.403Z"
   },
   {
    "duration": 103,
    "start_time": "2025-05-09T16:11:36.083Z"
   },
   {
    "duration": 471,
    "start_time": "2025-05-09T16:11:43.029Z"
   },
   {
    "duration": 965,
    "start_time": "2025-05-09T16:11:43.501Z"
   },
   {
    "duration": 19,
    "start_time": "2025-05-09T16:11:44.468Z"
   },
   {
    "duration": 8,
    "start_time": "2025-05-09T16:11:44.490Z"
   },
   {
    "duration": 11,
    "start_time": "2025-05-09T16:11:44.499Z"
   },
   {
    "duration": 22,
    "start_time": "2025-05-09T16:11:44.511Z"
   },
   {
    "duration": 11,
    "start_time": "2025-05-09T16:11:44.534Z"
   },
   {
    "duration": 8,
    "start_time": "2025-05-09T16:11:44.546Z"
   },
   {
    "duration": 8,
    "start_time": "2025-05-09T16:11:44.588Z"
   },
   {
    "duration": 7,
    "start_time": "2025-05-09T16:11:44.599Z"
   },
   {
    "duration": 6,
    "start_time": "2025-05-09T16:11:44.608Z"
   },
   {
    "duration": 9,
    "start_time": "2025-05-09T16:11:44.615Z"
   },
   {
    "duration": 8,
    "start_time": "2025-05-09T16:11:44.625Z"
   },
   {
    "duration": 6,
    "start_time": "2025-05-09T16:11:44.635Z"
   },
   {
    "duration": 57,
    "start_time": "2025-05-09T16:11:44.643Z"
   },
   {
    "duration": 50,
    "start_time": "2025-05-09T16:11:44.703Z"
   },
   {
    "duration": 8,
    "start_time": "2025-05-09T16:11:44.755Z"
   },
   {
    "duration": 82,
    "start_time": "2025-05-09T16:11:44.764Z"
   },
   {
    "duration": 26,
    "start_time": "2025-05-09T16:11:44.847Z"
   },
   {
    "duration": 96,
    "start_time": "2025-05-09T16:11:44.875Z"
   },
   {
    "duration": 92,
    "start_time": "2025-05-09T16:11:44.973Z"
   },
   {
    "duration": 98,
    "start_time": "2025-05-09T16:11:45.067Z"
   },
   {
    "duration": 109,
    "start_time": "2025-05-09T16:11:45.167Z"
   },
   {
    "duration": 8,
    "start_time": "2025-05-09T16:11:45.278Z"
   },
   {
    "duration": 2,
    "start_time": "2025-05-09T16:11:45.288Z"
   },
   {
    "duration": 4,
    "start_time": "2025-05-09T16:11:45.292Z"
   },
   {
    "duration": 20,
    "start_time": "2025-05-09T16:11:45.298Z"
   },
   {
    "duration": 2,
    "start_time": "2025-05-09T16:11:45.322Z"
   },
   {
    "duration": 5,
    "start_time": "2025-05-09T16:11:45.326Z"
   },
   {
    "duration": 3,
    "start_time": "2025-05-09T16:11:45.333Z"
   },
   {
    "duration": 2,
    "start_time": "2025-05-09T16:11:45.338Z"
   },
   {
    "duration": 14,
    "start_time": "2025-05-09T16:14:11.102Z"
   },
   {
    "duration": 187,
    "start_time": "2025-05-09T16:16:47.556Z"
   },
   {
    "duration": 12,
    "start_time": "2025-05-09T16:17:03.378Z"
   },
   {
    "duration": 5,
    "start_time": "2025-05-09T16:17:23.043Z"
   },
   {
    "duration": 4,
    "start_time": "2025-05-09T16:19:08.969Z"
   },
   {
    "duration": 3,
    "start_time": "2025-05-09T16:19:15.179Z"
   },
   {
    "duration": 13,
    "start_time": "2025-05-09T16:19:30.007Z"
   },
   {
    "duration": 3,
    "start_time": "2025-05-09T16:19:54.410Z"
   },
   {
    "duration": 4,
    "start_time": "2025-05-09T16:20:04.380Z"
   },
   {
    "duration": 439,
    "start_time": "2025-05-09T16:22:11.909Z"
   },
   {
    "duration": 19,
    "start_time": "2025-05-09T16:23:13.458Z"
   },
   {
    "duration": 13,
    "start_time": "2025-05-09T16:23:56.149Z"
   },
   {
    "duration": 14,
    "start_time": "2025-05-09T16:24:06.259Z"
   },
   {
    "duration": 4,
    "start_time": "2025-05-09T16:27:13.735Z"
   },
   {
    "duration": 18,
    "start_time": "2025-05-09T16:27:31.079Z"
   },
   {
    "duration": 37,
    "start_time": "2025-05-09T16:31:39.820Z"
   },
   {
    "duration": 8,
    "start_time": "2025-05-09T16:32:07.273Z"
   },
   {
    "duration": 3,
    "start_time": "2025-05-09T16:35:34.955Z"
   },
   {
    "duration": 10,
    "start_time": "2025-05-09T16:35:46.757Z"
   },
   {
    "duration": 4,
    "start_time": "2025-05-09T16:36:04.916Z"
   },
   {
    "duration": 4,
    "start_time": "2025-05-09T16:36:39.596Z"
   },
   {
    "duration": 4,
    "start_time": "2025-05-09T16:41:45.862Z"
   },
   {
    "duration": 10,
    "start_time": "2025-05-09T16:45:09.032Z"
   },
   {
    "duration": 755,
    "start_time": "2025-05-09T16:45:48.956Z"
   },
   {
    "duration": 760,
    "start_time": "2025-05-09T17:02:22.449Z"
   },
   {
    "duration": 814,
    "start_time": "2025-05-09T17:02:31.550Z"
   },
   {
    "duration": 1667,
    "start_time": "2025-05-09T17:07:06.046Z"
   },
   {
    "duration": 5,
    "start_time": "2025-05-09T17:10:44.952Z"
   },
   {
    "duration": 13,
    "start_time": "2025-05-09T17:11:02.289Z"
   },
   {
    "duration": 4,
    "start_time": "2025-05-09T17:11:58.688Z"
   },
   {
    "duration": 6,
    "start_time": "2025-05-09T17:12:30.278Z"
   },
   {
    "duration": 6,
    "start_time": "2025-05-09T17:14:15.950Z"
   },
   {
    "duration": 7,
    "start_time": "2025-05-09T17:14:56.564Z"
   },
   {
    "duration": 6,
    "start_time": "2025-05-09T17:15:15.040Z"
   },
   {
    "duration": 16,
    "start_time": "2025-05-09T17:17:30.634Z"
   },
   {
    "duration": 180,
    "start_time": "2025-05-09T17:17:37.442Z"
   },
   {
    "duration": 168,
    "start_time": "2025-05-09T17:18:14.857Z"
   },
   {
    "duration": 6,
    "start_time": "2025-05-09T17:22:18.268Z"
   },
   {
    "duration": 108,
    "start_time": "2025-05-09T17:23:49.814Z"
   },
   {
    "duration": 8,
    "start_time": "2025-05-09T17:26:00.712Z"
   },
   {
    "duration": 9,
    "start_time": "2025-05-09T17:26:52.807Z"
   },
   {
    "duration": 186,
    "start_time": "2025-05-09T17:31:51.102Z"
   },
   {
    "duration": 55,
    "start_time": "2025-05-09T17:42:41.701Z"
   },
   {
    "duration": 54,
    "start_time": "2025-05-09T17:44:38.139Z"
   },
   {
    "duration": 8,
    "start_time": "2025-05-09T17:46:05.995Z"
   },
   {
    "duration": 9,
    "start_time": "2025-05-09T17:46:23.412Z"
   },
   {
    "duration": 128,
    "start_time": "2025-05-09T17:47:47.028Z"
   },
   {
    "duration": 32,
    "start_time": "2025-05-09T17:49:23.237Z"
   },
   {
    "duration": 4,
    "start_time": "2025-05-09T17:50:27.494Z"
   },
   {
    "duration": 4,
    "start_time": "2025-05-09T17:51:03.197Z"
   },
   {
    "duration": 4,
    "start_time": "2025-05-09T17:51:11.235Z"
   },
   {
    "duration": 5,
    "start_time": "2025-05-09T17:51:19.295Z"
   },
   {
    "duration": 6,
    "start_time": "2025-05-09T17:54:28.496Z"
   },
   {
    "duration": 6,
    "start_time": "2025-05-09T17:55:00.414Z"
   },
   {
    "duration": 204,
    "start_time": "2025-05-09T17:56:25.956Z"
   },
   {
    "duration": 2146,
    "start_time": "2025-05-11T15:59:19.003Z"
   },
   {
    "duration": 999,
    "start_time": "2025-05-11T15:59:21.151Z"
   },
   {
    "duration": 11,
    "start_time": "2025-05-11T15:59:22.152Z"
   },
   {
    "duration": 9,
    "start_time": "2025-05-11T15:59:22.165Z"
   },
   {
    "duration": 10,
    "start_time": "2025-05-11T15:59:22.176Z"
   },
   {
    "duration": 46,
    "start_time": "2025-05-11T15:59:22.188Z"
   },
   {
    "duration": 8,
    "start_time": "2025-05-11T15:59:22.236Z"
   },
   {
    "duration": 9,
    "start_time": "2025-05-11T15:59:22.245Z"
   },
   {
    "duration": 6,
    "start_time": "2025-05-11T15:59:22.256Z"
   },
   {
    "duration": 8,
    "start_time": "2025-05-11T15:59:22.264Z"
   },
   {
    "duration": 5,
    "start_time": "2025-05-11T15:59:22.274Z"
   },
   {
    "duration": 39,
    "start_time": "2025-05-11T15:59:22.281Z"
   },
   {
    "duration": 8,
    "start_time": "2025-05-11T15:59:22.321Z"
   },
   {
    "duration": 6,
    "start_time": "2025-05-11T15:59:22.333Z"
   },
   {
    "duration": 17,
    "start_time": "2025-05-11T15:59:22.340Z"
   },
   {
    "duration": 82,
    "start_time": "2025-05-11T15:59:22.359Z"
   },
   {
    "duration": 8,
    "start_time": "2025-05-11T15:59:22.443Z"
   },
   {
    "duration": 76,
    "start_time": "2025-05-11T15:59:22.453Z"
   },
   {
    "duration": 27,
    "start_time": "2025-05-11T15:59:22.531Z"
   },
   {
    "duration": 99,
    "start_time": "2025-05-11T15:59:22.559Z"
   },
   {
    "duration": 88,
    "start_time": "2025-05-11T15:59:22.660Z"
   },
   {
    "duration": 88,
    "start_time": "2025-05-11T15:59:22.749Z"
   },
   {
    "duration": 102,
    "start_time": "2025-05-11T15:59:22.839Z"
   },
   {
    "duration": 12,
    "start_time": "2025-05-11T15:59:22.943Z"
   },
   {
    "duration": 3,
    "start_time": "2025-05-11T15:59:22.957Z"
   },
   {
    "duration": 18,
    "start_time": "2025-05-11T15:59:22.962Z"
   },
   {
    "duration": 39,
    "start_time": "2025-05-11T15:59:22.981Z"
   },
   {
    "duration": 8,
    "start_time": "2025-05-11T15:59:23.021Z"
   },
   {
    "duration": 6,
    "start_time": "2025-05-11T15:59:23.030Z"
   },
   {
    "duration": 4,
    "start_time": "2025-05-11T15:59:23.038Z"
   },
   {
    "duration": 1593,
    "start_time": "2025-05-11T15:59:23.043Z"
   },
   {
    "duration": 5,
    "start_time": "2025-05-11T15:59:24.638Z"
   },
   {
    "duration": 5,
    "start_time": "2025-05-11T15:59:24.645Z"
   },
   {
    "duration": 7,
    "start_time": "2025-05-11T15:59:24.652Z"
   },
   {
    "duration": 198,
    "start_time": "2025-05-11T15:59:24.660Z"
   },
   {
    "duration": 7,
    "start_time": "2025-05-11T15:59:24.860Z"
   },
   {
    "duration": 161,
    "start_time": "2025-05-11T15:59:24.868Z"
   },
   {
    "duration": 10,
    "start_time": "2025-05-11T15:59:25.031Z"
   },
   {
    "duration": 199,
    "start_time": "2025-05-11T15:59:25.042Z"
   },
   {
    "duration": 8,
    "start_time": "2025-05-11T15:59:25.243Z"
   },
   {
    "duration": 7,
    "start_time": "2025-05-11T15:59:25.255Z"
   },
   {
    "duration": 5,
    "start_time": "2025-05-11T15:59:25.263Z"
   },
   {
    "duration": 232,
    "start_time": "2025-05-11T15:59:25.269Z"
   },
   {
    "duration": 181,
    "start_time": "2025-05-11T16:07:34.853Z"
   },
   {
    "duration": 3,
    "start_time": "2025-05-11T16:07:55.302Z"
   },
   {
    "duration": 3,
    "start_time": "2025-05-11T16:07:58.621Z"
   },
   {
    "duration": 2,
    "start_time": "2025-05-11T16:08:20.675Z"
   },
   {
    "duration": 55,
    "start_time": "2025-05-11T16:08:50.890Z"
   },
   {
    "duration": 37,
    "start_time": "2025-05-11T16:10:00.201Z"
   },
   {
    "duration": 9,
    "start_time": "2025-05-11T16:11:25.343Z"
   },
   {
    "duration": 435,
    "start_time": "2025-05-11T16:13:25.939Z"
   },
   {
    "duration": 903,
    "start_time": "2025-05-11T16:13:26.377Z"
   },
   {
    "duration": 13,
    "start_time": "2025-05-11T16:13:27.282Z"
   },
   {
    "duration": 23,
    "start_time": "2025-05-11T16:13:27.297Z"
   },
   {
    "duration": 10,
    "start_time": "2025-05-11T16:13:27.323Z"
   },
   {
    "duration": 23,
    "start_time": "2025-05-11T16:13:27.336Z"
   },
   {
    "duration": 9,
    "start_time": "2025-05-11T16:13:27.361Z"
   },
   {
    "duration": 7,
    "start_time": "2025-05-11T16:13:27.372Z"
   },
   {
    "duration": 7,
    "start_time": "2025-05-11T16:13:27.381Z"
   },
   {
    "duration": 38,
    "start_time": "2025-05-11T16:13:27.389Z"
   },
   {
    "duration": 6,
    "start_time": "2025-05-11T16:13:27.429Z"
   },
   {
    "duration": 8,
    "start_time": "2025-05-11T16:13:27.436Z"
   },
   {
    "duration": 8,
    "start_time": "2025-05-11T16:13:27.445Z"
   },
   {
    "duration": 5,
    "start_time": "2025-05-11T16:13:27.457Z"
   },
   {
    "duration": 17,
    "start_time": "2025-05-11T16:13:27.464Z"
   },
   {
    "duration": 51,
    "start_time": "2025-05-11T16:13:27.519Z"
   },
   {
    "duration": 8,
    "start_time": "2025-05-11T16:13:27.572Z"
   },
   {
    "duration": 82,
    "start_time": "2025-05-11T16:13:27.581Z"
   },
   {
    "duration": 27,
    "start_time": "2025-05-11T16:13:27.665Z"
   },
   {
    "duration": 101,
    "start_time": "2025-05-11T16:13:27.694Z"
   },
   {
    "duration": 88,
    "start_time": "2025-05-11T16:13:27.797Z"
   },
   {
    "duration": 90,
    "start_time": "2025-05-11T16:13:27.887Z"
   },
   {
    "duration": 102,
    "start_time": "2025-05-11T16:13:27.979Z"
   },
   {
    "duration": 16,
    "start_time": "2025-05-11T16:13:28.082Z"
   },
   {
    "duration": 5,
    "start_time": "2025-05-11T16:13:28.101Z"
   },
   {
    "duration": 29,
    "start_time": "2025-05-11T16:13:28.108Z"
   },
   {
    "duration": 18,
    "start_time": "2025-05-11T16:13:28.139Z"
   },
   {
    "duration": 8,
    "start_time": "2025-05-11T16:13:28.159Z"
   },
   {
    "duration": 6,
    "start_time": "2025-05-11T16:13:28.168Z"
   },
   {
    "duration": 5,
    "start_time": "2025-05-11T16:13:28.175Z"
   },
   {
    "duration": 1585,
    "start_time": "2025-05-11T16:13:28.181Z"
   },
   {
    "duration": 5,
    "start_time": "2025-05-11T16:13:29.767Z"
   },
   {
    "duration": 4,
    "start_time": "2025-05-11T16:13:29.774Z"
   },
   {
    "duration": 5,
    "start_time": "2025-05-11T16:13:29.780Z"
   },
   {
    "duration": 196,
    "start_time": "2025-05-11T16:13:29.787Z"
   },
   {
    "duration": 6,
    "start_time": "2025-05-11T16:13:29.985Z"
   },
   {
    "duration": 117,
    "start_time": "2025-05-11T16:13:29.992Z"
   },
   {
    "duration": 12,
    "start_time": "2025-05-11T16:13:30.111Z"
   },
   {
    "duration": 198,
    "start_time": "2025-05-11T16:13:30.125Z"
   },
   {
    "duration": 7,
    "start_time": "2025-05-11T16:13:30.325Z"
   },
   {
    "duration": 8,
    "start_time": "2025-05-11T16:13:30.336Z"
   },
   {
    "duration": 5,
    "start_time": "2025-05-11T16:13:30.345Z"
   },
   {
    "duration": 224,
    "start_time": "2025-05-11T16:13:30.351Z"
   },
   {
    "duration": 45,
    "start_time": "2025-05-11T16:13:30.578Z"
   },
   {
    "duration": 413,
    "start_time": "2025-05-11T16:14:48.384Z"
   },
   {
    "duration": 909,
    "start_time": "2025-05-11T16:14:48.799Z"
   },
   {
    "duration": 11,
    "start_time": "2025-05-11T16:14:49.711Z"
   },
   {
    "duration": 9,
    "start_time": "2025-05-11T16:14:49.724Z"
   },
   {
    "duration": 10,
    "start_time": "2025-05-11T16:14:49.734Z"
   },
   {
    "duration": 21,
    "start_time": "2025-05-11T16:14:49.746Z"
   },
   {
    "duration": 9,
    "start_time": "2025-05-11T16:14:49.769Z"
   },
   {
    "duration": 40,
    "start_time": "2025-05-11T16:14:49.780Z"
   },
   {
    "duration": 6,
    "start_time": "2025-05-11T16:14:49.822Z"
   },
   {
    "duration": 7,
    "start_time": "2025-05-11T16:14:49.831Z"
   },
   {
    "duration": 5,
    "start_time": "2025-05-11T16:14:49.841Z"
   },
   {
    "duration": 8,
    "start_time": "2025-05-11T16:14:49.848Z"
   },
   {
    "duration": 9,
    "start_time": "2025-05-11T16:14:49.857Z"
   },
   {
    "duration": 7,
    "start_time": "2025-05-11T16:14:49.867Z"
   },
   {
    "duration": 56,
    "start_time": "2025-05-11T16:14:49.875Z"
   },
   {
    "duration": 51,
    "start_time": "2025-05-11T16:14:49.933Z"
   },
   {
    "duration": 7,
    "start_time": "2025-05-11T16:14:49.986Z"
   },
   {
    "duration": 80,
    "start_time": "2025-05-11T16:14:49.995Z"
   },
   {
    "duration": 26,
    "start_time": "2025-05-11T16:14:50.077Z"
   },
   {
    "duration": 91,
    "start_time": "2025-05-11T16:14:50.105Z"
   },
   {
    "duration": 93,
    "start_time": "2025-05-11T16:14:50.198Z"
   },
   {
    "duration": 100,
    "start_time": "2025-05-11T16:14:50.293Z"
   },
   {
    "duration": 102,
    "start_time": "2025-05-11T16:14:50.394Z"
   },
   {
    "duration": 13,
    "start_time": "2025-05-11T16:14:50.497Z"
   },
   {
    "duration": 10,
    "start_time": "2025-05-11T16:14:50.511Z"
   },
   {
    "duration": 20,
    "start_time": "2025-05-11T16:14:50.522Z"
   },
   {
    "duration": 17,
    "start_time": "2025-05-11T16:14:50.544Z"
   },
   {
    "duration": 7,
    "start_time": "2025-05-11T16:14:50.565Z"
   },
   {
    "duration": 6,
    "start_time": "2025-05-11T16:14:50.574Z"
   },
   {
    "duration": 36,
    "start_time": "2025-05-11T16:14:50.583Z"
   },
   {
    "duration": 1562,
    "start_time": "2025-05-11T16:14:50.621Z"
   },
   {
    "duration": 5,
    "start_time": "2025-05-11T16:14:52.185Z"
   },
   {
    "duration": 6,
    "start_time": "2025-05-11T16:14:52.191Z"
   },
   {
    "duration": 6,
    "start_time": "2025-05-11T16:14:52.219Z"
   },
   {
    "duration": 179,
    "start_time": "2025-05-11T16:14:52.226Z"
   },
   {
    "duration": 14,
    "start_time": "2025-05-11T16:14:52.407Z"
   },
   {
    "duration": 111,
    "start_time": "2025-05-11T16:14:52.423Z"
   },
   {
    "duration": 9,
    "start_time": "2025-05-11T16:14:52.536Z"
   },
   {
    "duration": 203,
    "start_time": "2025-05-11T16:14:52.547Z"
   },
   {
    "duration": 8,
    "start_time": "2025-05-11T16:14:52.752Z"
   },
   {
    "duration": 7,
    "start_time": "2025-05-11T16:14:52.762Z"
   },
   {
    "duration": 5,
    "start_time": "2025-05-11T16:14:52.771Z"
   },
   {
    "duration": 225,
    "start_time": "2025-05-11T16:14:52.778Z"
   },
   {
    "duration": 52,
    "start_time": "2025-05-11T16:14:53.004Z"
   },
   {
    "duration": 125,
    "start_time": "2025-05-11T16:14:53.058Z"
   },
   {
    "duration": 115,
    "start_time": "2025-05-11T16:18:57.835Z"
   },
   {
    "duration": 105,
    "start_time": "2025-05-11T16:26:28.104Z"
   },
   {
    "duration": 10,
    "start_time": "2025-05-11T16:29:16.706Z"
   },
   {
    "duration": 5,
    "start_time": "2025-05-11T16:29:25.877Z"
   },
   {
    "duration": 2,
    "start_time": "2025-05-11T16:36:07.813Z"
   },
   {
    "duration": 846,
    "start_time": "2025-05-11T16:36:07.817Z"
   },
   {
    "duration": 9,
    "start_time": "2025-05-11T16:36:08.664Z"
   },
   {
    "duration": 8,
    "start_time": "2025-05-11T16:36:08.676Z"
   },
   {
    "duration": 9,
    "start_time": "2025-05-11T16:36:08.686Z"
   },
   {
    "duration": 42,
    "start_time": "2025-05-11T16:36:08.696Z"
   },
   {
    "duration": 9,
    "start_time": "2025-05-11T16:36:08.740Z"
   },
   {
    "duration": 7,
    "start_time": "2025-05-11T16:36:08.751Z"
   },
   {
    "duration": 5,
    "start_time": "2025-05-11T16:36:08.761Z"
   },
   {
    "duration": 8,
    "start_time": "2025-05-11T16:36:08.768Z"
   },
   {
    "duration": 6,
    "start_time": "2025-05-11T16:36:08.777Z"
   },
   {
    "duration": 42,
    "start_time": "2025-05-11T16:36:08.785Z"
   },
   {
    "duration": 10,
    "start_time": "2025-05-11T16:36:08.829Z"
   },
   {
    "duration": 6,
    "start_time": "2025-05-11T16:36:08.841Z"
   },
   {
    "duration": 17,
    "start_time": "2025-05-11T16:36:08.849Z"
   },
   {
    "duration": 81,
    "start_time": "2025-05-11T16:36:08.868Z"
   },
   {
    "duration": 8,
    "start_time": "2025-05-11T16:36:08.950Z"
   },
   {
    "duration": 76,
    "start_time": "2025-05-11T16:36:08.959Z"
   },
   {
    "duration": 26,
    "start_time": "2025-05-11T16:36:09.036Z"
   },
   {
    "duration": 88,
    "start_time": "2025-05-11T16:36:09.063Z"
   },
   {
    "duration": 78,
    "start_time": "2025-05-11T16:36:09.154Z"
   },
   {
    "duration": 75,
    "start_time": "2025-05-11T16:36:09.233Z"
   },
   {
    "duration": 93,
    "start_time": "2025-05-11T16:36:09.309Z"
   },
   {
    "duration": 16,
    "start_time": "2025-05-11T16:36:09.406Z"
   },
   {
    "duration": 4,
    "start_time": "2025-05-11T16:36:09.423Z"
   },
   {
    "duration": 18,
    "start_time": "2025-05-11T16:36:09.429Z"
   },
   {
    "duration": 17,
    "start_time": "2025-05-11T16:36:09.448Z"
   },
   {
    "duration": 414,
    "start_time": "2025-05-11T16:37:33.715Z"
   },
   {
    "duration": 896,
    "start_time": "2025-05-11T16:37:34.131Z"
   },
   {
    "duration": 12,
    "start_time": "2025-05-11T16:37:35.029Z"
   },
   {
    "duration": 8,
    "start_time": "2025-05-11T16:37:35.044Z"
   },
   {
    "duration": 10,
    "start_time": "2025-05-11T16:37:35.054Z"
   },
   {
    "duration": 23,
    "start_time": "2025-05-11T16:37:35.066Z"
   },
   {
    "duration": 33,
    "start_time": "2025-05-11T16:37:35.091Z"
   },
   {
    "duration": 7,
    "start_time": "2025-05-11T16:37:35.126Z"
   },
   {
    "duration": 7,
    "start_time": "2025-05-11T16:37:35.134Z"
   },
   {
    "duration": 7,
    "start_time": "2025-05-11T16:37:35.144Z"
   },
   {
    "duration": 5,
    "start_time": "2025-05-11T16:37:35.153Z"
   },
   {
    "duration": 7,
    "start_time": "2025-05-11T16:37:35.160Z"
   },
   {
    "duration": 8,
    "start_time": "2025-05-11T16:37:35.169Z"
   },
   {
    "duration": 46,
    "start_time": "2025-05-11T16:37:35.179Z"
   },
   {
    "duration": 18,
    "start_time": "2025-05-11T16:37:35.226Z"
   },
   {
    "duration": 49,
    "start_time": "2025-05-11T16:37:35.245Z"
   },
   {
    "duration": 27,
    "start_time": "2025-05-11T16:37:35.296Z"
   },
   {
    "duration": 60,
    "start_time": "2025-05-11T16:37:35.325Z"
   },
   {
    "duration": 42,
    "start_time": "2025-05-11T16:37:35.387Z"
   },
   {
    "duration": 105,
    "start_time": "2025-05-11T16:37:35.431Z"
   },
   {
    "duration": 97,
    "start_time": "2025-05-11T16:37:35.537Z"
   },
   {
    "duration": 109,
    "start_time": "2025-05-11T16:37:35.636Z"
   },
   {
    "duration": 98,
    "start_time": "2025-05-11T16:37:35.747Z"
   },
   {
    "duration": 14,
    "start_time": "2025-05-11T16:37:35.847Z"
   },
   {
    "duration": 3,
    "start_time": "2025-05-11T16:37:35.863Z"
   },
   {
    "duration": 17,
    "start_time": "2025-05-11T16:37:35.868Z"
   },
   {
    "duration": 37,
    "start_time": "2025-05-11T16:37:35.887Z"
   },
   {
    "duration": 13,
    "start_time": "2025-05-11T16:37:35.929Z"
   },
   {
    "duration": 5,
    "start_time": "2025-05-11T16:37:35.944Z"
   },
   {
    "duration": 3,
    "start_time": "2025-05-11T16:37:35.951Z"
   },
   {
    "duration": 1563,
    "start_time": "2025-05-11T16:37:35.956Z"
   },
   {
    "duration": 8,
    "start_time": "2025-05-11T16:37:37.521Z"
   },
   {
    "duration": 8,
    "start_time": "2025-05-11T16:37:37.533Z"
   },
   {
    "duration": 7,
    "start_time": "2025-05-11T16:37:37.543Z"
   },
   {
    "duration": 189,
    "start_time": "2025-05-11T16:37:37.552Z"
   },
   {
    "duration": 6,
    "start_time": "2025-05-11T16:37:37.743Z"
   },
   {
    "duration": 116,
    "start_time": "2025-05-11T16:37:37.750Z"
   },
   {
    "duration": 9,
    "start_time": "2025-05-11T16:37:37.868Z"
   },
   {
    "duration": 195,
    "start_time": "2025-05-11T16:37:37.878Z"
   },
   {
    "duration": 9,
    "start_time": "2025-05-11T16:37:38.075Z"
   },
   {
    "duration": 8,
    "start_time": "2025-05-11T16:37:38.086Z"
   },
   {
    "duration": 5,
    "start_time": "2025-05-11T16:37:38.095Z"
   },
   {
    "duration": 205,
    "start_time": "2025-05-11T16:37:38.120Z"
   },
   {
    "duration": 41,
    "start_time": "2025-05-11T16:37:38.327Z"
   },
   {
    "duration": 136,
    "start_time": "2025-05-11T16:37:38.369Z"
   },
   {
    "duration": 480,
    "start_time": "2025-05-11T16:37:38.507Z"
   },
   {
    "duration": 7,
    "start_time": "2025-05-11T16:37:38.989Z"
   },
   {
    "duration": 22,
    "start_time": "2025-05-11T16:37:38.998Z"
   },
   {
    "duration": 446,
    "start_time": "2025-05-11T16:38:26.228Z"
   },
   {
    "duration": 893,
    "start_time": "2025-05-11T16:38:26.676Z"
   },
   {
    "duration": 12,
    "start_time": "2025-05-11T16:38:27.570Z"
   },
   {
    "duration": 9,
    "start_time": "2025-05-11T16:38:27.585Z"
   },
   {
    "duration": 26,
    "start_time": "2025-05-11T16:38:27.595Z"
   },
   {
    "duration": 21,
    "start_time": "2025-05-11T16:38:27.623Z"
   },
   {
    "duration": 9,
    "start_time": "2025-05-11T16:38:27.646Z"
   },
   {
    "duration": 8,
    "start_time": "2025-05-11T16:38:27.657Z"
   },
   {
    "duration": 6,
    "start_time": "2025-05-11T16:38:27.667Z"
   },
   {
    "duration": 7,
    "start_time": "2025-05-11T16:38:27.676Z"
   },
   {
    "duration": 43,
    "start_time": "2025-05-11T16:38:27.685Z"
   },
   {
    "duration": 10,
    "start_time": "2025-05-11T16:38:27.730Z"
   },
   {
    "duration": 8,
    "start_time": "2025-05-11T16:38:27.742Z"
   },
   {
    "duration": 6,
    "start_time": "2025-05-11T16:38:27.752Z"
   },
   {
    "duration": 16,
    "start_time": "2025-05-11T16:38:27.760Z"
   },
   {
    "duration": 80,
    "start_time": "2025-05-11T16:38:27.778Z"
   },
   {
    "duration": 8,
    "start_time": "2025-05-11T16:38:27.859Z"
   },
   {
    "duration": 77,
    "start_time": "2025-05-11T16:38:27.868Z"
   },
   {
    "duration": 26,
    "start_time": "2025-05-11T16:38:27.947Z"
   },
   {
    "duration": 101,
    "start_time": "2025-05-11T16:38:27.975Z"
   },
   {
    "duration": 91,
    "start_time": "2025-05-11T16:38:28.077Z"
   },
   {
    "duration": 92,
    "start_time": "2025-05-11T16:38:28.169Z"
   },
   {
    "duration": 101,
    "start_time": "2025-05-11T16:38:28.264Z"
   },
   {
    "duration": 13,
    "start_time": "2025-05-11T16:38:28.367Z"
   },
   {
    "duration": 5,
    "start_time": "2025-05-11T16:38:28.382Z"
   },
   {
    "duration": 39,
    "start_time": "2025-05-11T16:38:28.388Z"
   },
   {
    "duration": 22,
    "start_time": "2025-05-11T16:38:28.429Z"
   },
   {
    "duration": 14,
    "start_time": "2025-05-11T16:38:28.456Z"
   },
   {
    "duration": 7,
    "start_time": "2025-05-11T16:38:28.472Z"
   },
   {
    "duration": 3,
    "start_time": "2025-05-11T16:38:28.481Z"
   },
   {
    "duration": 1544,
    "start_time": "2025-05-11T16:38:28.486Z"
   },
   {
    "duration": 6,
    "start_time": "2025-05-11T16:38:30.032Z"
   },
   {
    "duration": 5,
    "start_time": "2025-05-11T16:38:30.039Z"
   },
   {
    "duration": 7,
    "start_time": "2025-05-11T16:38:30.046Z"
   },
   {
    "duration": 196,
    "start_time": "2025-05-11T16:38:30.054Z"
   },
   {
    "duration": 6,
    "start_time": "2025-05-11T16:38:30.252Z"
   },
   {
    "duration": 122,
    "start_time": "2025-05-11T16:38:30.259Z"
   },
   {
    "duration": 9,
    "start_time": "2025-05-11T16:38:30.383Z"
   },
   {
    "duration": 197,
    "start_time": "2025-05-11T16:38:30.394Z"
   },
   {
    "duration": 8,
    "start_time": "2025-05-11T16:38:30.593Z"
   },
   {
    "duration": 19,
    "start_time": "2025-05-11T16:38:30.603Z"
   },
   {
    "duration": 4,
    "start_time": "2025-05-11T16:38:30.624Z"
   },
   {
    "duration": 215,
    "start_time": "2025-05-11T16:38:30.630Z"
   },
   {
    "duration": 41,
    "start_time": "2025-05-11T16:38:30.848Z"
   },
   {
    "duration": 134,
    "start_time": "2025-05-11T16:38:30.891Z"
   },
   {
    "duration": 488,
    "start_time": "2025-05-11T16:38:31.027Z"
   },
   {
    "duration": 10,
    "start_time": "2025-05-11T16:38:31.519Z"
   },
   {
    "duration": 8,
    "start_time": "2025-05-11T16:38:31.531Z"
   },
   {
    "duration": 480,
    "start_time": "2025-05-11T16:42:58.130Z"
   },
   {
    "duration": 467,
    "start_time": "2025-05-11T16:43:19.725Z"
   },
   {
    "duration": 558,
    "start_time": "2025-05-11T16:45:11.332Z"
   },
   {
    "duration": 470,
    "start_time": "2025-05-11T16:45:28.004Z"
   },
   {
    "duration": 475,
    "start_time": "2025-05-11T16:46:13.911Z"
   },
   {
    "duration": 483,
    "start_time": "2025-05-11T16:46:41.133Z"
   },
   {
    "duration": 213,
    "start_time": "2025-05-11T16:47:26.460Z"
   },
   {
    "duration": 152,
    "start_time": "2025-05-11T23:21:57.932Z"
   },
   {
    "duration": 9,
    "start_time": "2025-05-11T23:22:03.168Z"
   },
   {
    "duration": 5,
    "start_time": "2025-05-11T23:26:03.397Z"
   },
   {
    "duration": 17,
    "start_time": "2025-05-11T23:29:23.626Z"
   },
   {
    "duration": 22,
    "start_time": "2025-05-11T23:30:53.421Z"
   },
   {
    "duration": 281,
    "start_time": "2025-05-11T23:32:14.820Z"
   },
   {
    "duration": 5,
    "start_time": "2025-05-11T23:34:44.356Z"
   },
   {
    "duration": 13,
    "start_time": "2025-05-11T23:36:38.306Z"
   },
   {
    "duration": 670,
    "start_time": "2025-05-11T23:41:22.624Z"
   },
   {
    "duration": 644,
    "start_time": "2025-05-11T23:41:35.915Z"
   },
   {
    "duration": 451,
    "start_time": "2025-05-11T23:41:43.008Z"
   },
   {
    "duration": 1130,
    "start_time": "2025-05-11T23:41:43.461Z"
   },
   {
    "duration": 15,
    "start_time": "2025-05-11T23:41:44.594Z"
   },
   {
    "duration": 12,
    "start_time": "2025-05-11T23:41:44.620Z"
   },
   {
    "duration": 16,
    "start_time": "2025-05-11T23:41:44.634Z"
   },
   {
    "duration": 37,
    "start_time": "2025-05-11T23:41:44.654Z"
   },
   {
    "duration": 9,
    "start_time": "2025-05-11T23:41:44.692Z"
   },
   {
    "duration": 9,
    "start_time": "2025-05-11T23:41:44.720Z"
   },
   {
    "duration": 7,
    "start_time": "2025-05-11T23:41:44.730Z"
   },
   {
    "duration": 8,
    "start_time": "2025-05-11T23:41:44.741Z"
   },
   {
    "duration": 7,
    "start_time": "2025-05-11T23:41:44.751Z"
   },
   {
    "duration": 10,
    "start_time": "2025-05-11T23:41:44.759Z"
   },
   {
    "duration": 10,
    "start_time": "2025-05-11T23:41:44.770Z"
   },
   {
    "duration": 39,
    "start_time": "2025-05-11T23:41:44.782Z"
   },
   {
    "duration": 22,
    "start_time": "2025-05-11T23:41:44.823Z"
   },
   {
    "duration": 89,
    "start_time": "2025-05-11T23:41:44.849Z"
   },
   {
    "duration": 9,
    "start_time": "2025-05-11T23:41:44.940Z"
   },
   {
    "duration": 88,
    "start_time": "2025-05-11T23:41:44.951Z"
   },
   {
    "duration": 38,
    "start_time": "2025-05-11T23:41:45.041Z"
   },
   {
    "duration": 126,
    "start_time": "2025-05-11T23:41:45.081Z"
   },
   {
    "duration": 126,
    "start_time": "2025-05-11T23:41:45.209Z"
   },
   {
    "duration": 135,
    "start_time": "2025-05-11T23:41:45.337Z"
   },
   {
    "duration": 141,
    "start_time": "2025-05-11T23:41:45.474Z"
   },
   {
    "duration": 18,
    "start_time": "2025-05-11T23:41:45.616Z"
   },
   {
    "duration": 4,
    "start_time": "2025-05-11T23:41:45.636Z"
   },
   {
    "duration": 28,
    "start_time": "2025-05-11T23:41:45.642Z"
   },
   {
    "duration": 28,
    "start_time": "2025-05-11T23:41:45.672Z"
   },
   {
    "duration": 29,
    "start_time": "2025-05-11T23:41:45.706Z"
   },
   {
    "duration": 10,
    "start_time": "2025-05-11T23:41:45.737Z"
   },
   {
    "duration": 5,
    "start_time": "2025-05-11T23:41:45.752Z"
   },
   {
    "duration": 1812,
    "start_time": "2025-05-11T23:41:45.760Z"
   },
   {
    "duration": 6,
    "start_time": "2025-05-11T23:41:47.574Z"
   },
   {
    "duration": 6,
    "start_time": "2025-05-11T23:41:47.582Z"
   },
   {
    "duration": 7,
    "start_time": "2025-05-11T23:41:47.591Z"
   },
   {
    "duration": 211,
    "start_time": "2025-05-11T23:41:47.600Z"
   },
   {
    "duration": 13,
    "start_time": "2025-05-11T23:41:47.813Z"
   },
   {
    "duration": 159,
    "start_time": "2025-05-11T23:41:47.828Z"
   },
   {
    "duration": 12,
    "start_time": "2025-05-11T23:41:47.989Z"
   },
   {
    "duration": 284,
    "start_time": "2025-05-11T23:41:48.003Z"
   },
   {
    "duration": 9,
    "start_time": "2025-05-11T23:41:48.289Z"
   },
   {
    "duration": 17,
    "start_time": "2025-05-11T23:41:48.304Z"
   },
   {
    "duration": 6,
    "start_time": "2025-05-11T23:41:48.323Z"
   },
   {
    "duration": 309,
    "start_time": "2025-05-11T23:41:48.330Z"
   },
   {
    "duration": 50,
    "start_time": "2025-05-11T23:41:48.641Z"
   },
   {
    "duration": 133,
    "start_time": "2025-05-11T23:41:48.693Z"
   },
   {
    "duration": 653,
    "start_time": "2025-05-11T23:41:48.829Z"
   },
   {
    "duration": 694,
    "start_time": "2025-05-11T23:41:49.488Z"
   },
   {
    "duration": 288,
    "start_time": "2025-05-11T23:41:50.184Z"
   },
   {
    "duration": 12,
    "start_time": "2025-05-11T23:41:50.474Z"
   },
   {
    "duration": 8,
    "start_time": "2025-05-11T23:41:50.487Z"
   },
   {
    "duration": 238,
    "start_time": "2025-05-11T23:46:32.463Z"
   },
   {
    "duration": 294,
    "start_time": "2025-05-11T23:46:49.473Z"
   },
   {
    "duration": 47,
    "start_time": "2025-05-11T23:47:15.603Z"
   },
   {
    "duration": 13,
    "start_time": "2025-05-11T23:48:18.278Z"
   },
   {
    "duration": 47,
    "start_time": "2025-05-11T23:48:29.867Z"
   },
   {
    "duration": 97,
    "start_time": "2025-05-11T23:48:41.652Z"
   },
   {
    "duration": 13,
    "start_time": "2025-05-11T23:49:53.230Z"
   },
   {
    "duration": 22,
    "start_time": "2025-05-11T23:49:58.229Z"
   },
   {
    "duration": 22,
    "start_time": "2025-05-11T23:51:31.426Z"
   },
   {
    "duration": 18,
    "start_time": "2025-05-11T23:52:09.868Z"
   },
   {
    "duration": 406,
    "start_time": "2025-05-12T00:02:09.500Z"
   },
   {
    "duration": 907,
    "start_time": "2025-05-12T00:02:09.908Z"
   },
   {
    "duration": 14,
    "start_time": "2025-05-12T00:02:10.817Z"
   },
   {
    "duration": 11,
    "start_time": "2025-05-12T00:02:10.835Z"
   },
   {
    "duration": 11,
    "start_time": "2025-05-12T00:02:10.848Z"
   },
   {
    "duration": 22,
    "start_time": "2025-05-12T00:02:10.860Z"
   },
   {
    "duration": 37,
    "start_time": "2025-05-12T00:02:10.884Z"
   },
   {
    "duration": 9,
    "start_time": "2025-05-12T00:02:10.923Z"
   },
   {
    "duration": 6,
    "start_time": "2025-05-12T00:02:10.934Z"
   },
   {
    "duration": 8,
    "start_time": "2025-05-12T00:02:10.944Z"
   },
   {
    "duration": 5,
    "start_time": "2025-05-12T00:02:10.953Z"
   },
   {
    "duration": 8,
    "start_time": "2025-05-12T00:02:10.960Z"
   },
   {
    "duration": 10,
    "start_time": "2025-05-12T00:02:10.969Z"
   },
   {
    "duration": 46,
    "start_time": "2025-05-12T00:02:10.980Z"
   },
   {
    "duration": 17,
    "start_time": "2025-05-12T00:02:11.029Z"
   },
   {
    "duration": 51,
    "start_time": "2025-05-12T00:02:11.048Z"
   },
   {
    "duration": 25,
    "start_time": "2025-05-12T00:02:11.100Z"
   },
   {
    "duration": 62,
    "start_time": "2025-05-12T00:02:11.128Z"
   },
   {
    "duration": 45,
    "start_time": "2025-05-12T00:02:11.191Z"
   },
   {
    "duration": 95,
    "start_time": "2025-05-12T00:02:11.237Z"
   },
   {
    "duration": 86,
    "start_time": "2025-05-12T00:02:11.334Z"
   },
   {
    "duration": 87,
    "start_time": "2025-05-12T00:02:11.422Z"
   },
   {
    "duration": 110,
    "start_time": "2025-05-12T00:02:11.510Z"
   },
   {
    "duration": 18,
    "start_time": "2025-05-12T00:02:11.623Z"
   },
   {
    "duration": 5,
    "start_time": "2025-05-12T00:02:11.643Z"
   },
   {
    "duration": 19,
    "start_time": "2025-05-12T00:02:11.649Z"
   },
   {
    "duration": 16,
    "start_time": "2025-05-12T00:02:11.669Z"
   },
   {
    "duration": 34,
    "start_time": "2025-05-12T00:02:11.689Z"
   },
   {
    "duration": 6,
    "start_time": "2025-05-12T00:02:11.724Z"
   },
   {
    "duration": 4,
    "start_time": "2025-05-12T00:02:11.732Z"
   },
   {
    "duration": 1560,
    "start_time": "2025-05-12T00:02:11.737Z"
   },
   {
    "duration": 4,
    "start_time": "2025-05-12T00:02:13.299Z"
   },
   {
    "duration": 15,
    "start_time": "2025-05-12T00:02:13.305Z"
   },
   {
    "duration": 6,
    "start_time": "2025-05-12T00:02:13.322Z"
   },
   {
    "duration": 185,
    "start_time": "2025-05-12T00:02:13.330Z"
   },
   {
    "duration": 6,
    "start_time": "2025-05-12T00:02:13.517Z"
   },
   {
    "duration": 118,
    "start_time": "2025-05-12T00:02:13.524Z"
   },
   {
    "duration": 9,
    "start_time": "2025-05-12T00:02:13.644Z"
   },
   {
    "duration": 192,
    "start_time": "2025-05-12T00:02:13.654Z"
   },
   {
    "duration": 9,
    "start_time": "2025-05-12T00:02:13.850Z"
   },
   {
    "duration": 9,
    "start_time": "2025-05-12T00:02:13.860Z"
   },
   {
    "duration": 5,
    "start_time": "2025-05-12T00:02:13.871Z"
   },
   {
    "duration": 245,
    "start_time": "2025-05-12T00:02:13.877Z"
   },
   {
    "duration": 41,
    "start_time": "2025-05-12T00:02:14.123Z"
   },
   {
    "duration": 137,
    "start_time": "2025-05-12T00:02:14.166Z"
   },
   {
    "duration": 488,
    "start_time": "2025-05-12T00:02:14.304Z"
   },
   {
    "duration": 480,
    "start_time": "2025-05-12T00:02:14.794Z"
   },
   {
    "duration": 248,
    "start_time": "2025-05-12T00:02:15.277Z"
   },
   {
    "duration": 11,
    "start_time": "2025-05-12T00:02:15.526Z"
   },
   {
    "duration": 7,
    "start_time": "2025-05-12T00:02:15.538Z"
   },
   {
    "duration": 116,
    "start_time": "2025-05-12T00:02:15.547Z"
   },
   {
    "duration": 8,
    "start_time": "2025-05-12T00:06:17.766Z"
   },
   {
    "duration": 119,
    "start_time": "2025-05-12T00:08:15.759Z"
   },
   {
    "duration": 13,
    "start_time": "2025-05-12T00:08:47.171Z"
   },
   {
    "duration": 5,
    "start_time": "2025-05-12T00:10:09.913Z"
   },
   {
    "duration": 247,
    "start_time": "2025-05-12T00:10:31.439Z"
   },
   {
    "duration": 255,
    "start_time": "2025-05-12T00:13:59.905Z"
   },
   {
    "duration": 367,
    "start_time": "2025-05-12T00:16:22.573Z"
   },
   {
    "duration": 254,
    "start_time": "2025-05-12T00:17:43.750Z"
   },
   {
    "duration": 378,
    "start_time": "2025-05-12T00:19:26.754Z"
   },
   {
    "duration": 272,
    "start_time": "2025-05-12T00:20:12.853Z"
   },
   {
    "duration": 268,
    "start_time": "2025-05-12T00:20:46.547Z"
   },
   {
    "duration": 12,
    "start_time": "2025-05-12T00:22:46.098Z"
   },
   {
    "duration": 13,
    "start_time": "2025-05-12T00:23:04.713Z"
   },
   {
    "duration": 466,
    "start_time": "2025-05-12T00:23:18.037Z"
   },
   {
    "duration": 920,
    "start_time": "2025-05-12T00:23:18.505Z"
   },
   {
    "duration": 16,
    "start_time": "2025-05-12T00:23:19.426Z"
   },
   {
    "duration": 10,
    "start_time": "2025-05-12T00:23:19.443Z"
   },
   {
    "duration": 11,
    "start_time": "2025-05-12T00:23:19.455Z"
   },
   {
    "duration": 23,
    "start_time": "2025-05-12T00:23:19.467Z"
   },
   {
    "duration": 35,
    "start_time": "2025-05-12T00:23:19.491Z"
   },
   {
    "duration": 7,
    "start_time": "2025-05-12T00:23:19.528Z"
   },
   {
    "duration": 5,
    "start_time": "2025-05-12T00:23:19.537Z"
   },
   {
    "duration": 7,
    "start_time": "2025-05-12T00:23:19.544Z"
   },
   {
    "duration": 6,
    "start_time": "2025-05-12T00:23:19.553Z"
   },
   {
    "duration": 7,
    "start_time": "2025-05-12T00:23:19.561Z"
   },
   {
    "duration": 8,
    "start_time": "2025-05-12T00:23:19.570Z"
   },
   {
    "duration": 42,
    "start_time": "2025-05-12T00:23:19.581Z"
   },
   {
    "duration": 17,
    "start_time": "2025-05-12T00:23:19.625Z"
   },
   {
    "duration": 49,
    "start_time": "2025-05-12T00:23:19.644Z"
   },
   {
    "duration": 27,
    "start_time": "2025-05-12T00:23:19.695Z"
   },
   {
    "duration": 61,
    "start_time": "2025-05-12T00:23:19.724Z"
   },
   {
    "duration": 46,
    "start_time": "2025-05-12T00:23:19.787Z"
   },
   {
    "duration": 91,
    "start_time": "2025-05-12T00:23:19.835Z"
   },
   {
    "duration": 81,
    "start_time": "2025-05-12T00:23:19.928Z"
   },
   {
    "duration": 91,
    "start_time": "2025-05-12T00:23:20.019Z"
   },
   {
    "duration": 101,
    "start_time": "2025-05-12T00:23:20.119Z"
   },
   {
    "duration": 13,
    "start_time": "2025-05-12T00:23:20.221Z"
   },
   {
    "duration": 4,
    "start_time": "2025-05-12T00:23:20.235Z"
   },
   {
    "duration": 19,
    "start_time": "2025-05-12T00:23:20.241Z"
   },
   {
    "duration": 17,
    "start_time": "2025-05-12T00:23:20.261Z"
   },
   {
    "duration": 42,
    "start_time": "2025-05-12T00:23:20.280Z"
   },
   {
    "duration": 6,
    "start_time": "2025-05-12T00:23:20.324Z"
   },
   {
    "duration": 5,
    "start_time": "2025-05-12T00:23:20.331Z"
   },
   {
    "duration": 1655,
    "start_time": "2025-05-12T00:23:20.338Z"
   },
   {
    "duration": 4,
    "start_time": "2025-05-12T00:23:21.995Z"
   },
   {
    "duration": 20,
    "start_time": "2025-05-12T00:23:22.000Z"
   },
   {
    "duration": 7,
    "start_time": "2025-05-12T00:23:22.023Z"
   },
   {
    "duration": 192,
    "start_time": "2025-05-12T00:23:22.031Z"
   },
   {
    "duration": 6,
    "start_time": "2025-05-12T00:23:22.225Z"
   },
   {
    "duration": 123,
    "start_time": "2025-05-12T00:23:22.233Z"
   },
   {
    "duration": 9,
    "start_time": "2025-05-12T00:23:22.358Z"
   },
   {
    "duration": 202,
    "start_time": "2025-05-12T00:23:22.369Z"
   },
   {
    "duration": 8,
    "start_time": "2025-05-12T00:23:22.573Z"
   },
   {
    "duration": 9,
    "start_time": "2025-05-12T00:23:22.589Z"
   },
   {
    "duration": 17,
    "start_time": "2025-05-12T00:23:22.602Z"
   },
   {
    "duration": 212,
    "start_time": "2025-05-12T00:23:22.621Z"
   },
   {
    "duration": 41,
    "start_time": "2025-05-12T00:23:22.835Z"
   },
   {
    "duration": 132,
    "start_time": "2025-05-12T00:23:22.877Z"
   },
   {
    "duration": 503,
    "start_time": "2025-05-12T00:23:23.011Z"
   },
   {
    "duration": 476,
    "start_time": "2025-05-12T00:23:23.517Z"
   },
   {
    "duration": 234,
    "start_time": "2025-05-12T00:23:23.994Z"
   },
   {
    "duration": 11,
    "start_time": "2025-05-12T00:23:24.229Z"
   },
   {
    "duration": 8,
    "start_time": "2025-05-12T00:23:24.241Z"
   },
   {
    "duration": 269,
    "start_time": "2025-05-12T00:23:24.250Z"
   },
   {
    "duration": 873,
    "start_time": "2025-05-12T00:23:24.521Z"
   },
   {
    "duration": 393,
    "start_time": "2025-05-12T00:24:14.900Z"
   },
   {
    "duration": 210,
    "start_time": "2025-05-12T00:24:26.948Z"
   },
   {
    "duration": 808,
    "start_time": "2025-05-12T00:25:44.647Z"
   },
   {
    "duration": 210,
    "start_time": "2025-05-12T00:25:54.960Z"
   },
   {
    "duration": 190,
    "start_time": "2025-05-12T00:26:07.742Z"
   },
   {
    "duration": 58,
    "start_time": "2025-05-12T00:34:08.517Z"
   },
   {
    "duration": 66,
    "start_time": "2025-05-12T00:34:29.327Z"
   },
   {
    "duration": 236,
    "start_time": "2025-05-12T00:40:02.886Z"
   },
   {
    "duration": 203,
    "start_time": "2025-05-12T00:40:18.871Z"
   },
   {
    "duration": 242,
    "start_time": "2025-05-12T00:41:11.946Z"
   },
   {
    "duration": 236,
    "start_time": "2025-05-12T00:41:26.299Z"
   },
   {
    "duration": 10,
    "start_time": "2025-05-12T00:42:58.337Z"
   },
   {
    "duration": 381,
    "start_time": "2025-05-12T00:43:22.657Z"
   },
   {
    "duration": 353,
    "start_time": "2025-05-12T00:46:31.719Z"
   },
   {
    "duration": 18,
    "start_time": "2025-05-12T00:46:42.060Z"
   },
   {
    "duration": 211,
    "start_time": "2025-05-12T00:47:08.318Z"
   },
   {
    "duration": 368,
    "start_time": "2025-05-12T00:49:41.739Z"
   },
   {
    "duration": 182,
    "start_time": "2025-05-12T00:51:02.544Z"
   },
   {
    "duration": 582,
    "start_time": "2025-05-12T00:53:14.800Z"
   },
   {
    "duration": 343,
    "start_time": "2025-05-12T00:54:07.521Z"
   },
   {
    "duration": 332,
    "start_time": "2025-05-12T00:55:02.003Z"
   },
   {
    "duration": 543,
    "start_time": "2025-05-12T00:58:36.464Z"
   },
   {
    "duration": 1192,
    "start_time": "2025-05-12T00:58:37.009Z"
   },
   {
    "duration": 14,
    "start_time": "2025-05-12T00:58:38.203Z"
   },
   {
    "duration": 8,
    "start_time": "2025-05-12T00:58:38.219Z"
   },
   {
    "duration": 12,
    "start_time": "2025-05-12T00:58:38.287Z"
   },
   {
    "duration": 98,
    "start_time": "2025-05-12T00:58:38.301Z"
   },
   {
    "duration": 11,
    "start_time": "2025-05-12T00:58:38.404Z"
   },
   {
    "duration": 9,
    "start_time": "2025-05-12T00:58:38.418Z"
   },
   {
    "duration": 61,
    "start_time": "2025-05-12T00:58:38.429Z"
   },
   {
    "duration": 7,
    "start_time": "2025-05-12T00:58:38.493Z"
   },
   {
    "duration": 6,
    "start_time": "2025-05-12T00:58:38.502Z"
   },
   {
    "duration": 10,
    "start_time": "2025-05-12T00:58:38.509Z"
   },
   {
    "duration": 69,
    "start_time": "2025-05-12T00:58:38.522Z"
   },
   {
    "duration": 12,
    "start_time": "2025-05-12T00:58:38.593Z"
   },
   {
    "duration": 17,
    "start_time": "2025-05-12T00:58:38.607Z"
   },
   {
    "duration": 163,
    "start_time": "2025-05-12T00:58:38.625Z"
   },
   {
    "duration": 8,
    "start_time": "2025-05-12T00:58:38.790Z"
   },
   {
    "duration": 118,
    "start_time": "2025-05-12T00:58:38.800Z"
   },
   {
    "duration": 79,
    "start_time": "2025-05-12T00:58:38.921Z"
   },
   {
    "duration": 291,
    "start_time": "2025-05-12T00:58:39.002Z"
   },
   {
    "duration": 131,
    "start_time": "2025-05-12T00:58:39.294Z"
   },
   {
    "duration": 196,
    "start_time": "2025-05-12T00:58:39.427Z"
   },
   {
    "duration": 191,
    "start_time": "2025-05-12T00:58:39.625Z"
   },
   {
    "duration": 69,
    "start_time": "2025-05-12T00:58:39.818Z"
   },
   {
    "duration": 5,
    "start_time": "2025-05-12T00:58:39.889Z"
   },
   {
    "duration": 25,
    "start_time": "2025-05-12T00:58:39.896Z"
   },
   {
    "duration": 75,
    "start_time": "2025-05-12T00:58:39.923Z"
   },
   {
    "duration": 13,
    "start_time": "2025-05-12T00:58:40.003Z"
   },
   {
    "duration": 5,
    "start_time": "2025-05-12T00:58:40.018Z"
   },
   {
    "duration": 4,
    "start_time": "2025-05-12T00:58:40.087Z"
   },
   {
    "duration": 2763,
    "start_time": "2025-05-12T00:58:40.093Z"
   },
   {
    "duration": 4,
    "start_time": "2025-05-12T00:58:42.858Z"
   },
   {
    "duration": 23,
    "start_time": "2025-05-12T00:58:42.864Z"
   },
   {
    "duration": 7,
    "start_time": "2025-05-12T00:58:42.889Z"
   },
   {
    "duration": 413,
    "start_time": "2025-05-12T00:58:42.898Z"
   },
   {
    "duration": 7,
    "start_time": "2025-05-12T00:58:43.313Z"
   },
   {
    "duration": 303,
    "start_time": "2025-05-12T00:58:43.321Z"
   },
   {
    "duration": 10,
    "start_time": "2025-05-12T00:58:43.626Z"
   },
   {
    "duration": 255,
    "start_time": "2025-05-12T00:58:43.638Z"
   },
   {
    "duration": 9,
    "start_time": "2025-05-12T00:58:43.894Z"
   },
   {
    "duration": 8,
    "start_time": "2025-05-12T00:58:43.904Z"
   },
   {
    "duration": 5,
    "start_time": "2025-05-12T00:58:43.914Z"
   },
   {
    "duration": 291,
    "start_time": "2025-05-12T00:58:43.921Z"
   },
   {
    "duration": 42,
    "start_time": "2025-05-12T00:58:44.214Z"
   },
   {
    "duration": 160,
    "start_time": "2025-05-12T00:58:44.257Z"
   },
   {
    "duration": 567,
    "start_time": "2025-05-12T00:58:44.419Z"
   },
   {
    "duration": 525,
    "start_time": "2025-05-12T00:58:44.988Z"
   },
   {
    "duration": 248,
    "start_time": "2025-05-12T00:58:45.515Z"
   },
   {
    "duration": 23,
    "start_time": "2025-05-12T00:58:45.765Z"
   },
   {
    "duration": 7,
    "start_time": "2025-05-12T00:58:45.790Z"
   },
   {
    "duration": 309,
    "start_time": "2025-05-12T00:58:45.799Z"
   },
   {
    "duration": 1135,
    "start_time": "2025-05-12T00:58:46.110Z"
   },
   {
    "duration": 267,
    "start_time": "2025-05-12T00:58:47.247Z"
   },
   {
    "duration": 80,
    "start_time": "2025-05-12T00:58:47.516Z"
   },
   {
    "duration": 349,
    "start_time": "2025-05-12T00:58:47.597Z"
   },
   {
    "duration": 546,
    "start_time": "2025-05-12T00:58:47.947Z"
   },
   {
    "duration": 7,
    "start_time": "2025-05-12T00:58:48.494Z"
   },
   {
    "duration": 695,
    "start_time": "2025-05-12T00:58:48.503Z"
   },
   {
    "duration": 2,
    "start_time": "2025-05-12T01:07:24.605Z"
   },
   {
    "duration": 833,
    "start_time": "2025-05-12T01:07:24.610Z"
   },
   {
    "duration": 9,
    "start_time": "2025-05-12T01:07:25.445Z"
   },
   {
    "duration": 8,
    "start_time": "2025-05-12T01:07:25.457Z"
   },
   {
    "duration": 22,
    "start_time": "2025-05-12T01:07:25.467Z"
   },
   {
    "duration": 20,
    "start_time": "2025-05-12T01:07:25.490Z"
   },
   {
    "duration": 9,
    "start_time": "2025-05-12T01:07:25.512Z"
   },
   {
    "duration": 7,
    "start_time": "2025-05-12T01:07:25.523Z"
   },
   {
    "duration": 5,
    "start_time": "2025-05-12T01:07:25.532Z"
   },
   {
    "duration": 9,
    "start_time": "2025-05-12T01:07:25.538Z"
   },
   {
    "duration": 41,
    "start_time": "2025-05-12T01:07:25.548Z"
   },
   {
    "duration": 7,
    "start_time": "2025-05-12T01:07:25.591Z"
   },
   {
    "duration": 8,
    "start_time": "2025-05-12T01:07:25.600Z"
   },
   {
    "duration": 6,
    "start_time": "2025-05-12T01:07:25.612Z"
   },
   {
    "duration": 17,
    "start_time": "2025-05-12T01:07:25.620Z"
   },
   {
    "duration": 83,
    "start_time": "2025-05-12T01:07:25.639Z"
   },
   {
    "duration": 7,
    "start_time": "2025-05-12T01:07:25.724Z"
   },
   {
    "duration": 77,
    "start_time": "2025-05-12T01:07:25.732Z"
   },
   {
    "duration": 26,
    "start_time": "2025-05-12T01:07:25.811Z"
   },
   {
    "duration": 81,
    "start_time": "2025-05-12T01:07:25.840Z"
   },
   {
    "duration": 77,
    "start_time": "2025-05-12T01:07:25.924Z"
   },
   {
    "duration": 75,
    "start_time": "2025-05-12T01:07:26.002Z"
   },
   {
    "duration": 72,
    "start_time": "2025-05-12T01:07:26.086Z"
   },
   {
    "duration": 13,
    "start_time": "2025-05-12T01:07:26.160Z"
   },
   {
    "duration": 6,
    "start_time": "2025-05-12T01:07:26.187Z"
   },
   {
    "duration": 17,
    "start_time": "2025-05-12T01:07:26.194Z"
   },
   {
    "duration": 16,
    "start_time": "2025-05-12T01:07:26.213Z"
   },
   {
    "duration": 13,
    "start_time": "2025-05-12T01:07:26.232Z"
   },
   {
    "duration": 5,
    "start_time": "2025-05-12T01:07:26.247Z"
   },
   {
    "duration": 33,
    "start_time": "2025-05-12T01:07:26.254Z"
   },
   {
    "duration": 1466,
    "start_time": "2025-05-12T01:07:26.289Z"
   },
   {
    "duration": 4,
    "start_time": "2025-05-12T01:07:27.757Z"
   },
   {
    "duration": 5,
    "start_time": "2025-05-12T01:07:27.763Z"
   },
   {
    "duration": 22,
    "start_time": "2025-05-12T01:07:27.769Z"
   },
   {
    "duration": 313,
    "start_time": "2025-05-12T01:07:27.793Z"
   },
   {
    "duration": 7,
    "start_time": "2025-05-12T01:07:28.107Z"
   },
   {
    "duration": 242,
    "start_time": "2025-05-12T01:07:28.116Z"
   },
   {
    "duration": 27,
    "start_time": "2025-05-12T01:07:28.360Z"
   },
   {
    "duration": 214,
    "start_time": "2025-05-12T01:07:28.388Z"
   },
   {
    "duration": 8,
    "start_time": "2025-05-12T01:07:28.604Z"
   },
   {
    "duration": 7,
    "start_time": "2025-05-12T01:07:28.616Z"
   },
   {
    "duration": 5,
    "start_time": "2025-05-12T01:07:28.625Z"
   },
   {
    "duration": 287,
    "start_time": "2025-05-12T01:07:28.631Z"
   },
   {
    "duration": 36,
    "start_time": "2025-05-12T01:07:28.920Z"
   },
   {
    "duration": 137,
    "start_time": "2025-05-12T01:07:28.957Z"
   },
   {
    "duration": 473,
    "start_time": "2025-05-12T01:07:29.096Z"
   },
   {
    "duration": 443,
    "start_time": "2025-05-12T01:07:29.571Z"
   },
   {
    "duration": 211,
    "start_time": "2025-05-12T01:07:30.016Z"
   },
   {
    "duration": 10,
    "start_time": "2025-05-12T01:07:30.229Z"
   },
   {
    "duration": 6,
    "start_time": "2025-05-12T01:07:30.241Z"
   },
   {
    "duration": 271,
    "start_time": "2025-05-12T01:07:30.249Z"
   },
   {
    "duration": 882,
    "start_time": "2025-05-12T01:07:30.521Z"
   },
   {
    "duration": 232,
    "start_time": "2025-05-12T01:07:31.405Z"
   },
   {
    "duration": 65,
    "start_time": "2025-05-12T01:07:31.639Z"
   },
   {
    "duration": 243,
    "start_time": "2025-05-12T01:07:31.706Z"
   },
   {
    "duration": 255,
    "start_time": "2025-05-12T01:07:31.950Z"
   },
   {
    "duration": 7,
    "start_time": "2025-05-12T01:07:32.207Z"
   },
   {
    "duration": 358,
    "start_time": "2025-05-12T01:07:32.216Z"
   }
  ],
  "colab": {
   "provenance": []
  },
  "kernelspec": {
   "display_name": "Python 3 (ipykernel)",
   "language": "python",
   "name": "python3"
  },
  "language_info": {
   "codemirror_mode": {
    "name": "ipython",
    "version": 3
   },
   "file_extension": ".py",
   "mimetype": "text/x-python",
   "name": "python",
   "nbconvert_exporter": "python",
   "pygments_lexer": "ipython3",
   "version": "3.9.22"
  },
  "toc": {
   "base_numbering": 1,
   "nav_menu": {},
   "number_sections": true,
   "sideBar": true,
   "skip_h1_title": true,
   "title_cell": "Table of Contents",
   "title_sidebar": "Contents",
   "toc_cell": false,
   "toc_position": {},
   "toc_section_display": true,
   "toc_window_display": false
  }
 },
 "nbformat": 4,
 "nbformat_minor": 5
}
